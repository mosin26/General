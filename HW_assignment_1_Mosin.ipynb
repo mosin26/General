{
 "cells": [
  {
   "cell_type": "markdown",
   "metadata": {},
   "source": [
    "## Homework 1\n",
    "\n",
    "Author: Dmitry Petrov, teaching assistant (use to.dmitry.petrov@gmail.com for questions)\n",
    "\n",
    "Prerequisites: sklearn, pandas, numpy, scipy, ipython/jupyter, xgboost, matplotlib/seaborn libraries for python.\n",
    "\n",
    "Your report (as ipython-notebook preferebaly) should be prepared by June 17.\n",
    "\n",
    "The letter with the report should be sent to these emails: to.dmitry.petrov@gmail.com, dmitrii.ignatov@gmail.com, and ivannnnz@gmail.com. The topic of the letter must have the following format [CS-ML2016m-HW1]-LAST NAME-FIRST NAME.\n",
    "\n",
    "Max mark is 10.\n"
   ]
  },
  {
   "cell_type": "markdown",
   "metadata": {},
   "source": [
    "### 0. Data aquisition\n",
    "\n",
    "Get the training data from 'Walmart Recruiting: Trip Type Classification' competition:\n",
    "https://www.kaggle.com/c/walmart-recruiting-trip-type-classification/data\n",
    "\n",
    "Note 1: you can also pass this assignment if you will provide notebook with 0.55 log loss or better result on 10-fold cross-validation. \n",
    "\n",
    "Note 2: if this competition is your project, consider this assignment as first steps in it. \n",
    "\n"
   ]
  },
  {
   "cell_type": "code",
   "execution_count": 1,
   "metadata": {
    "collapsed": false
   },
   "outputs": [],
   "source": [
    "import random\n",
    "import pandas as pd\n",
    "import numpy as np\n",
    "import seaborn as sn\n",
    "from sklearn import cross_validation\n",
    "from sklearn import neighbors\n",
    "from sklearn import metrics\n",
    "from sklearn import linear_model\n",
    "from sklearn import svm\n",
    "from sklearn import ensemble\n",
    "from sklearn import grid_search\n",
    "from sklearn import learning_curve\n",
    "from sklearn import preprocessing\n",
    "from sklearn.pipeline import make_pipeline\n",
    "import matplotlib.pyplot as plt\n",
    "%matplotlib inline"
   ]
  },
  {
   "cell_type": "markdown",
   "metadata": {},
   "source": [
    "I work on 2.2Ghz 4GB machine, so due to performance of my computer I can use only the part of the initial dataset."
   ]
  },
  {
   "cell_type": "code",
   "execution_count": 2,
   "metadata": {
    "collapsed": false
   },
   "outputs": [],
   "source": [
    "random.seed(26L)\n",
    "train = pd.read_csv(\"train.csv\", skiprows=random.sample(range(1,647054), 640000))"
   ]
  },
  {
   "cell_type": "code",
   "execution_count": 3,
   "metadata": {
    "collapsed": true
   },
   "outputs": [],
   "source": [
    "test = pd.read_csv(\"test.csv\")"
   ]
  },
  {
   "cell_type": "code",
   "execution_count": 4,
   "metadata": {
    "collapsed": false
   },
   "outputs": [
    {
     "data": {
      "text/html": [
       "<div>\n",
       "<table border=\"1\" class=\"dataframe\">\n",
       "  <thead>\n",
       "    <tr style=\"text-align: right;\">\n",
       "      <th></th>\n",
       "      <th>TripType</th>\n",
       "      <th>VisitNumber</th>\n",
       "      <th>Weekday</th>\n",
       "      <th>Upc</th>\n",
       "      <th>ScanCount</th>\n",
       "      <th>DepartmentDescription</th>\n",
       "      <th>FinelineNumber</th>\n",
       "    </tr>\n",
       "  </thead>\n",
       "  <tbody>\n",
       "    <tr>\n",
       "      <th>0</th>\n",
       "      <td>26</td>\n",
       "      <td>8</td>\n",
       "      <td>Friday</td>\n",
       "      <td>2.238404e+09</td>\n",
       "      <td>2</td>\n",
       "      <td>PAINT AND ACCESSORIES</td>\n",
       "      <td>3565.0</td>\n",
       "    </tr>\n",
       "    <tr>\n",
       "      <th>1</th>\n",
       "      <td>15</td>\n",
       "      <td>123</td>\n",
       "      <td>Friday</td>\n",
       "      <td>4.900005e+09</td>\n",
       "      <td>1</td>\n",
       "      <td>DSD GROCERY</td>\n",
       "      <td>9570.0</td>\n",
       "    </tr>\n",
       "    <tr>\n",
       "      <th>2</th>\n",
       "      <td>7</td>\n",
       "      <td>137</td>\n",
       "      <td>Friday</td>\n",
       "      <td>7.682805e+09</td>\n",
       "      <td>1</td>\n",
       "      <td>PERSONAL CARE</td>\n",
       "      <td>9110.0</td>\n",
       "    </tr>\n",
       "    <tr>\n",
       "      <th>3</th>\n",
       "      <td>7</td>\n",
       "      <td>199</td>\n",
       "      <td>Friday</td>\n",
       "      <td>3.800039e+09</td>\n",
       "      <td>1</td>\n",
       "      <td>GROCERY DRY GOODS</td>\n",
       "      <td>3600.0</td>\n",
       "    </tr>\n",
       "    <tr>\n",
       "      <th>4</th>\n",
       "      <td>40</td>\n",
       "      <td>255</td>\n",
       "      <td>Friday</td>\n",
       "      <td>4.400000e+09</td>\n",
       "      <td>2</td>\n",
       "      <td>DSD GROCERY</td>\n",
       "      <td>3713.0</td>\n",
       "    </tr>\n",
       "  </tbody>\n",
       "</table>\n",
       "</div>"
      ],
      "text/plain": [
       "   TripType  VisitNumber Weekday           Upc  ScanCount  \\\n",
       "0        26            8  Friday  2.238404e+09          2   \n",
       "1        15          123  Friday  4.900005e+09          1   \n",
       "2         7          137  Friday  7.682805e+09          1   \n",
       "3         7          199  Friday  3.800039e+09          1   \n",
       "4        40          255  Friday  4.400000e+09          2   \n",
       "\n",
       "   DepartmentDescription  FinelineNumber  \n",
       "0  PAINT AND ACCESSORIES          3565.0  \n",
       "1            DSD GROCERY          9570.0  \n",
       "2          PERSONAL CARE          9110.0  \n",
       "3      GROCERY DRY GOODS          3600.0  \n",
       "4            DSD GROCERY          3713.0  "
      ]
     },
     "execution_count": 4,
     "metadata": {},
     "output_type": "execute_result"
    }
   ],
   "source": [
    "train.head()"
   ]
  },
  {
   "cell_type": "code",
   "execution_count": 5,
   "metadata": {
    "collapsed": false
   },
   "outputs": [
    {
     "data": {
      "text/html": [
       "<div>\n",
       "<table border=\"1\" class=\"dataframe\">\n",
       "  <thead>\n",
       "    <tr style=\"text-align: right;\">\n",
       "      <th></th>\n",
       "      <th>VisitNumber</th>\n",
       "      <th>Weekday</th>\n",
       "      <th>Upc</th>\n",
       "      <th>ScanCount</th>\n",
       "      <th>DepartmentDescription</th>\n",
       "      <th>FinelineNumber</th>\n",
       "    </tr>\n",
       "  </thead>\n",
       "  <tbody>\n",
       "    <tr>\n",
       "      <th>0</th>\n",
       "      <td>1</td>\n",
       "      <td>Friday</td>\n",
       "      <td>7.250339e+10</td>\n",
       "      <td>1</td>\n",
       "      <td>SHOES</td>\n",
       "      <td>3002.0</td>\n",
       "    </tr>\n",
       "    <tr>\n",
       "      <th>1</th>\n",
       "      <td>1</td>\n",
       "      <td>Friday</td>\n",
       "      <td>1.707711e+09</td>\n",
       "      <td>1</td>\n",
       "      <td>DAIRY</td>\n",
       "      <td>1526.0</td>\n",
       "    </tr>\n",
       "    <tr>\n",
       "      <th>2</th>\n",
       "      <td>1</td>\n",
       "      <td>Friday</td>\n",
       "      <td>8.947000e+10</td>\n",
       "      <td>1</td>\n",
       "      <td>DAIRY</td>\n",
       "      <td>1431.0</td>\n",
       "    </tr>\n",
       "    <tr>\n",
       "      <th>3</th>\n",
       "      <td>1</td>\n",
       "      <td>Friday</td>\n",
       "      <td>8.849121e+10</td>\n",
       "      <td>1</td>\n",
       "      <td>GROCERY DRY GOODS</td>\n",
       "      <td>3555.0</td>\n",
       "    </tr>\n",
       "    <tr>\n",
       "      <th>4</th>\n",
       "      <td>2</td>\n",
       "      <td>Friday</td>\n",
       "      <td>2.840015e+09</td>\n",
       "      <td>1</td>\n",
       "      <td>DSD GROCERY</td>\n",
       "      <td>4408.0</td>\n",
       "    </tr>\n",
       "  </tbody>\n",
       "</table>\n",
       "</div>"
      ],
      "text/plain": [
       "   VisitNumber Weekday           Upc  ScanCount DepartmentDescription  \\\n",
       "0            1  Friday  7.250339e+10          1                 SHOES   \n",
       "1            1  Friday  1.707711e+09          1                 DAIRY   \n",
       "2            1  Friday  8.947000e+10          1                 DAIRY   \n",
       "3            1  Friday  8.849121e+10          1     GROCERY DRY GOODS   \n",
       "4            2  Friday  2.840015e+09          1           DSD GROCERY   \n",
       "\n",
       "   FinelineNumber  \n",
       "0          3002.0  \n",
       "1          1526.0  \n",
       "2          1431.0  \n",
       "3          3555.0  \n",
       "4          4408.0  "
      ]
     },
     "execution_count": 5,
     "metadata": {},
     "output_type": "execute_result"
    }
   ],
   "source": [
    "test.head()"
   ]
  },
  {
   "cell_type": "markdown",
   "metadata": {},
   "source": [
    "### 1. Preliminary analysis"
   ]
  },
  {
   "cell_type": "markdown",
   "metadata": {},
   "source": [
    "Give summary of train features. \n",
    "\n",
    "— Which of them are numerical and categorical? \n",
    "\n",
    "— What distributions do they have? Are distributions identical on test and train? \n",
    "\n",
    "— What features contain missing values? What's your guess why?\n",
    "\n",
    "Note: Pandas library can be very handy."
   ]
  },
  {
   "cell_type": "markdown",
   "metadata": {},
   "source": [
    "There are two categorical features: Weekday and DepartmentDescription. All of the rest reatures are numerical."
   ]
  },
  {
   "cell_type": "code",
   "execution_count": 6,
   "metadata": {
    "collapsed": false
   },
   "outputs": [
    {
     "data": {
      "text/plain": [
       "TripType                   int64\n",
       "VisitNumber                int64\n",
       "Weekday                   object\n",
       "Upc                      float64\n",
       "ScanCount                  int64\n",
       "DepartmentDescription     object\n",
       "FinelineNumber           float64\n",
       "dtype: object"
      ]
     },
     "execution_count": 6,
     "metadata": {},
     "output_type": "execute_result"
    }
   ],
   "source": [
    "train.dtypes"
   ]
  },
  {
   "cell_type": "code",
   "execution_count": 7,
   "metadata": {
    "collapsed": false
   },
   "outputs": [
    {
     "data": {
      "text/html": [
       "<div>\n",
       "<table border=\"1\" class=\"dataframe\">\n",
       "  <thead>\n",
       "    <tr style=\"text-align: right;\">\n",
       "      <th></th>\n",
       "      <th>TripType</th>\n",
       "      <th>VisitNumber</th>\n",
       "      <th>Upc</th>\n",
       "      <th>ScanCount</th>\n",
       "      <th>FinelineNumber</th>\n",
       "    </tr>\n",
       "  </thead>\n",
       "  <tbody>\n",
       "    <tr>\n",
       "      <th>count</th>\n",
       "      <td>7054.000000</td>\n",
       "      <td>7054.000000</td>\n",
       "      <td>7.015000e+03</td>\n",
       "      <td>7054.000000</td>\n",
       "      <td>7015.000000</td>\n",
       "    </tr>\n",
       "    <tr>\n",
       "      <th>mean</th>\n",
       "      <td>57.958889</td>\n",
       "      <td>97627.339807</td>\n",
       "      <td>3.056004e+10</td>\n",
       "      <td>1.093989</td>\n",
       "      <td>3721.554669</td>\n",
       "    </tr>\n",
       "    <tr>\n",
       "      <th>std</th>\n",
       "      <td>155.740643</td>\n",
       "      <td>55427.366221</td>\n",
       "      <td>9.130819e+10</td>\n",
       "      <td>0.727095</td>\n",
       "      <td>2781.448957</td>\n",
       "    </tr>\n",
       "    <tr>\n",
       "      <th>min</th>\n",
       "      <td>3.000000</td>\n",
       "      <td>8.000000</td>\n",
       "      <td>8.340000e+02</td>\n",
       "      <td>-2.000000</td>\n",
       "      <td>0.000000</td>\n",
       "    </tr>\n",
       "    <tr>\n",
       "      <th>25%</th>\n",
       "      <td>27.000000</td>\n",
       "      <td>50334.250000</td>\n",
       "      <td>3.400001e+09</td>\n",
       "      <td>1.000000</td>\n",
       "      <td>1405.000000</td>\n",
       "    </tr>\n",
       "    <tr>\n",
       "      <th>50%</th>\n",
       "      <td>39.000000</td>\n",
       "      <td>98568.500000</td>\n",
       "      <td>7.033072e+09</td>\n",
       "      <td>1.000000</td>\n",
       "      <td>3351.000000</td>\n",
       "    </tr>\n",
       "    <tr>\n",
       "      <th>75%</th>\n",
       "      <td>40.000000</td>\n",
       "      <td>145186.000000</td>\n",
       "      <td>2.509770e+10</td>\n",
       "      <td>1.000000</td>\n",
       "      <td>5501.000000</td>\n",
       "    </tr>\n",
       "    <tr>\n",
       "      <th>max</th>\n",
       "      <td>999.000000</td>\n",
       "      <td>191347.000000</td>\n",
       "      <td>9.781633e+11</td>\n",
       "      <td>23.000000</td>\n",
       "      <td>9998.000000</td>\n",
       "    </tr>\n",
       "  </tbody>\n",
       "</table>\n",
       "</div>"
      ],
      "text/plain": [
       "          TripType    VisitNumber           Upc    ScanCount  FinelineNumber\n",
       "count  7054.000000    7054.000000  7.015000e+03  7054.000000     7015.000000\n",
       "mean     57.958889   97627.339807  3.056004e+10     1.093989     3721.554669\n",
       "std     155.740643   55427.366221  9.130819e+10     0.727095     2781.448957\n",
       "min       3.000000       8.000000  8.340000e+02    -2.000000        0.000000\n",
       "25%      27.000000   50334.250000  3.400001e+09     1.000000     1405.000000\n",
       "50%      39.000000   98568.500000  7.033072e+09     1.000000     3351.000000\n",
       "75%      40.000000  145186.000000  2.509770e+10     1.000000     5501.000000\n",
       "max     999.000000  191347.000000  9.781633e+11    23.000000     9998.000000"
      ]
     },
     "execution_count": 7,
     "metadata": {},
     "output_type": "execute_result"
    }
   ],
   "source": [
    "train.describe()"
   ]
  },
  {
   "cell_type": "code",
   "execution_count": 8,
   "metadata": {
    "collapsed": false
   },
   "outputs": [
    {
     "data": {
      "text/html": [
       "<div>\n",
       "<table border=\"1\" class=\"dataframe\">\n",
       "  <thead>\n",
       "    <tr style=\"text-align: right;\">\n",
       "      <th></th>\n",
       "      <th>VisitNumber</th>\n",
       "      <th>Upc</th>\n",
       "      <th>ScanCount</th>\n",
       "      <th>FinelineNumber</th>\n",
       "    </tr>\n",
       "  </thead>\n",
       "  <tbody>\n",
       "    <tr>\n",
       "      <th>count</th>\n",
       "      <td>653646.000000</td>\n",
       "      <td>6.496600e+05</td>\n",
       "      <td>653646.000000</td>\n",
       "      <td>649660.000000</td>\n",
       "    </tr>\n",
       "    <tr>\n",
       "      <th>mean</th>\n",
       "      <td>97040.992661</td>\n",
       "      <td>3.054325e+10</td>\n",
       "      <td>1.108726</td>\n",
       "      <td>3725.241185</td>\n",
       "    </tr>\n",
       "    <tr>\n",
       "      <th>std</th>\n",
       "      <td>55575.161962</td>\n",
       "      <td>9.125453e+10</td>\n",
       "      <td>0.712841</td>\n",
       "      <td>2776.625808</td>\n",
       "    </tr>\n",
       "    <tr>\n",
       "      <th>min</th>\n",
       "      <td>1.000000</td>\n",
       "      <td>8.340000e+02</td>\n",
       "      <td>-21.000000</td>\n",
       "      <td>0.000000</td>\n",
       "    </tr>\n",
       "    <tr>\n",
       "      <th>25%</th>\n",
       "      <td>49689.000000</td>\n",
       "      <td>3.400001e+09</td>\n",
       "      <td>1.000000</td>\n",
       "      <td>1404.000000</td>\n",
       "    </tr>\n",
       "    <tr>\n",
       "      <th>50%</th>\n",
       "      <td>98219.000000</td>\n",
       "      <td>7.047049e+09</td>\n",
       "      <td>1.000000</td>\n",
       "      <td>3353.000000</td>\n",
       "    </tr>\n",
       "    <tr>\n",
       "      <th>75%</th>\n",
       "      <td>145271.000000</td>\n",
       "      <td>3.004167e+10</td>\n",
       "      <td>1.000000</td>\n",
       "      <td>5501.000000</td>\n",
       "    </tr>\n",
       "    <tr>\n",
       "      <th>max</th>\n",
       "      <td>191348.000000</td>\n",
       "      <td>9.789707e+11</td>\n",
       "      <td>55.000000</td>\n",
       "      <td>9999.000000</td>\n",
       "    </tr>\n",
       "  </tbody>\n",
       "</table>\n",
       "</div>"
      ],
      "text/plain": [
       "         VisitNumber           Upc      ScanCount  FinelineNumber\n",
       "count  653646.000000  6.496600e+05  653646.000000   649660.000000\n",
       "mean    97040.992661  3.054325e+10       1.108726     3725.241185\n",
       "std     55575.161962  9.125453e+10       0.712841     2776.625808\n",
       "min         1.000000  8.340000e+02     -21.000000        0.000000\n",
       "25%     49689.000000  3.400001e+09       1.000000     1404.000000\n",
       "50%     98219.000000  7.047049e+09       1.000000     3353.000000\n",
       "75%    145271.000000  3.004167e+10       1.000000     5501.000000\n",
       "max    191348.000000  9.789707e+11      55.000000     9999.000000"
      ]
     },
     "execution_count": 8,
     "metadata": {},
     "output_type": "execute_result"
    }
   ],
   "source": [
    "test.describe()"
   ]
  },
  {
   "cell_type": "markdown",
   "metadata": {},
   "source": [
    "The distributions of the features are quite identical on the train and test data."
   ]
  },
  {
   "cell_type": "code",
   "execution_count": 9,
   "metadata": {
    "collapsed": false
   },
   "outputs": [],
   "source": [
    "del test"
   ]
  },
  {
   "cell_type": "markdown",
   "metadata": {},
   "source": [
    "Upc, DepartmentDescription and FinelineNumber features contain missing values."
   ]
  },
  {
   "cell_type": "code",
   "execution_count": 10,
   "metadata": {
    "collapsed": false
   },
   "outputs": [
    {
     "data": {
      "text/plain": [
       "TripType                 False\n",
       "VisitNumber              False\n",
       "Weekday                  False\n",
       "Upc                       True\n",
       "ScanCount                False\n",
       "DepartmentDescription     True\n",
       "FinelineNumber            True\n",
       "dtype: bool"
      ]
     },
     "execution_count": 10,
     "metadata": {},
     "output_type": "execute_result"
    }
   ],
   "source": [
    "train.isnull().any(0)"
   ]
  },
  {
   "cell_type": "markdown",
   "metadata": {},
   "source": [
    "### 2. Data preprocessing and feature engineering"
   ]
  },
  {
   "cell_type": "markdown",
   "metadata": {},
   "source": [
    "— Missing values. How do you choose to impute them? Why?\n",
    "\n",
    "— String variables. Implement label and one-hot encoding. For what models it makes a difference? (Note: it may be better to use Pandas get_dummies method to one-hot encoder in sklearn).\n",
    "\n",
    "— Combine observations by VisitNumber (Pandas groupby method can be very handy in that case). Make feature vector for each VisitNumber.  \n",
    "\n",
    "— Split training data into even new_train and evaluation sets using train_test_split from sklearn. Fix random state for reproducibility of your results. \n",
    "\n",
    "— Choose cross-validation 5-fold split for your data (3-fold if your PC is not so fast). Do not forget to specify random state for your results reproducibility. "
   ]
  },
  {
   "cell_type": "markdown",
   "metadata": {},
   "source": [
    "For applying the algorithms just exclude the rows with missing data."
   ]
  },
  {
   "cell_type": "code",
   "execution_count": 11,
   "metadata": {
    "collapsed": false
   },
   "outputs": [],
   "source": [
    "train = train.dropna(axis=0)"
   ]
  },
  {
   "cell_type": "markdown",
   "metadata": {},
   "source": [
    "Check that there are no more missing values in the dataset."
   ]
  },
  {
   "cell_type": "code",
   "execution_count": 12,
   "metadata": {
    "collapsed": false
   },
   "outputs": [
    {
     "data": {
      "text/plain": [
       "TripType                 False\n",
       "VisitNumber              False\n",
       "Weekday                  False\n",
       "Upc                      False\n",
       "ScanCount                False\n",
       "DepartmentDescription    False\n",
       "FinelineNumber           False\n",
       "dtype: bool"
      ]
     },
     "execution_count": 12,
     "metadata": {},
     "output_type": "execute_result"
    }
   ],
   "source": [
    "train.isnull().any(0)"
   ]
  },
  {
   "cell_type": "markdown",
   "metadata": {},
   "source": [
    "Using Pandas get_dummies method apply one-hot encoding for the categorical features. Also, using Pandas groupby method combine obseravations by VisitNumber and make feature vectors just by taking the means."
   ]
  },
  {
   "cell_type": "code",
   "execution_count": 13,
   "metadata": {
    "collapsed": true
   },
   "outputs": [],
   "source": [
    "train = pd.get_dummies(train)\n",
    "train = train.groupby('VisitNumber')\n",
    "train = train.mean()"
   ]
  },
  {
   "cell_type": "markdown",
   "metadata": {},
   "source": [
    "Using train_test_split from sklearn split the data into new train and test sets."
   ]
  },
  {
   "cell_type": "code",
   "execution_count": 17,
   "metadata": {
    "collapsed": false
   },
   "outputs": [],
   "source": [
    "X_train, X_test, y_train, y_test = cross_validation.train_test_split(train.ix[:, train.columns != 'TripType'],\n",
    "                                                                     train.ix[:, train.columns == 'TripType'], \n",
    "                                                                     random_state=26L)"
   ]
  },
  {
   "cell_type": "markdown",
   "metadata": {},
   "source": [
    "Implement some preprocessing for the data."
   ]
  },
  {
   "cell_type": "code",
   "execution_count": 18,
   "metadata": {
    "collapsed": false
   },
   "outputs": [],
   "source": [
    "X_train = preprocessing.scale(X_train.as_matrix())\n",
    "X_test = preprocessing.scale(X_test.as_matrix())\n",
    "y_train = np.ravel(y_train)\n",
    "y_test = np.ravel(y_test)"
   ]
  },
  {
   "cell_type": "markdown",
   "metadata": {},
   "source": [
    "### 3. KNN-classifier"
   ]
  },
  {
   "cell_type": "markdown",
   "metadata": {},
   "source": [
    "— Try KNN classifier on the obtained features. Report accuracy and logarithmic loss (mean and std across the folds). How does this evaluation metrics change depending on neighbors number? Depending on distance metric? \n",
    "\n",
    "— Show normalized confusion matrix for the best obtained model performance on the evaluation set. How does it differ from cross-validation score?"
   ]
  },
  {
   "cell_type": "markdown",
   "metadata": {},
   "source": [
    "Let's try KNN classifier with n_neighbors=5 and metric='minkowski'."
   ]
  },
  {
   "cell_type": "code",
   "execution_count": 19,
   "metadata": {
    "collapsed": false
   },
   "outputs": [
    {
     "name": "stdout",
     "output_type": "stream",
     "text": [
      "Accuracy: 0.237553360436 +/- 0.00701448037949\n",
      "Log_loss: 16.1583442796 +/- 0.292657867274\n"
     ]
    }
   ],
   "source": [
    "clf = neighbors.KNeighborsClassifier(n_neighbors=5, metric='minkowski')\n",
    "accuracy = cross_validation.cross_val_score(clf, X_train, y_train, scoring='accuracy')\n",
    "log_loss = cross_validation.cross_val_score(clf, X_train, y_train, scoring='log_loss')\n",
    "accuracy1 = accuracy.mean()\n",
    "accuracyStd = accuracy.std()\n",
    "log_loss1 = -log_loss.mean()\n",
    "log_lossStd = log_loss.std()\n",
    "print 'Accuracy: '+str(accuracy1)+' +/- '+str(accuracyStd)\n",
    "print 'Log_loss: '+str(log_loss1)+' +/- '+str(log_lossStd)"
   ]
  },
  {
   "cell_type": "markdown",
   "metadata": {
    "collapsed": false
   },
   "source": [
    "Let's try chebyshev metric instead of minkowski."
   ]
  },
  {
   "cell_type": "code",
   "execution_count": 20,
   "metadata": {
    "collapsed": false
   },
   "outputs": [
    {
     "name": "stdout",
     "output_type": "stream",
     "text": [
      "Accuracy: 0.235923472742 +/- 0.0032124448402\n",
      "Log_loss: 16.4535056065 +/- 0.245226249218\n"
     ]
    }
   ],
   "source": [
    "clf = neighbors.KNeighborsClassifier(n_neighbors=5, metric='chebyshev')\n",
    "accuracy = cross_validation.cross_val_score(clf, X_train, y_train, scoring='accuracy')\n",
    "log_loss = cross_validation.cross_val_score(clf, X_train, y_train, scoring='log_loss')\n",
    "accuracy2 = accuracy.mean()\n",
    "accuracyStd = accuracy.std()\n",
    "log_loss2 = -log_loss.mean()\n",
    "log_lossStd = log_loss.std()\n",
    "print 'Accuracy: '+str(accuracy2)+' +/- '+str(accuracyStd)\n",
    "print 'Log_loss: '+str(log_loss2)+' +/- '+str(log_lossStd)"
   ]
  },
  {
   "cell_type": "markdown",
   "metadata": {},
   "source": [
    "The results are worse. Switch back to minkowski metric and try to increase n_neighbors to 30."
   ]
  },
  {
   "cell_type": "code",
   "execution_count": 21,
   "metadata": {
    "collapsed": false
   },
   "outputs": [
    {
     "name": "stdout",
     "output_type": "stream",
     "text": [
      "Accuracy: 0.291740701143 +/- 0.0116929086083\n",
      "Log_loss: 7.09993158418 +/- 0.0960761599923\n"
     ]
    }
   ],
   "source": [
    "clf = neighbors.KNeighborsClassifier(n_neighbors=30, metric='minkowski')\n",
    "accuracy = cross_validation.cross_val_score(clf, X_train, y_train, scoring='accuracy')\n",
    "log_loss = cross_validation.cross_val_score(clf, X_train, y_train, scoring='log_loss')\n",
    "accuracy3 = accuracy.mean()\n",
    "accuracyStd = accuracy.std()\n",
    "log_loss3 = -log_loss.mean()\n",
    "log_lossStd = log_loss.std()\n",
    "print 'Accuracy: '+str(accuracy3)+' +/- '+str(accuracyStd)\n",
    "print 'Log_loss: '+str(log_loss3)+' +/- '+str(log_lossStd)"
   ]
  },
  {
   "cell_type": "markdown",
   "metadata": {},
   "source": [
    "Results are better, but it takes more time for computing. Visualize normalized confusion matrix for the last model and compute the accuracy on the evaluation sets."
   ]
  },
  {
   "cell_type": "code",
   "execution_count": 22,
   "metadata": {
    "collapsed": false
   },
   "outputs": [
    {
     "name": "stdout",
     "output_type": "stream",
     "text": [
      "Accuracy: 0.293242405456\n"
     ]
    },
    {
     "data": {
      "text/plain": [
       "<matplotlib.axes._subplots.AxesSubplot at 0x49dde70>"
      ]
     },
     "execution_count": 22,
     "metadata": {},
     "output_type": "execute_result"
    },
    {
     "data": {
      "image/png": "[encoded data removed]",
      "text/plain": [
       "<matplotlib.figure.Figure at 0x13d79870>"
      ]
     },
     "metadata": {},
     "output_type": "display_data"
    }
   ],
   "source": [
    "clf.fit(X_train, y_train)\n",
    "y_pred = clf.predict(X_test)\n",
    "accuracy = metrics.accuracy_score(y_test, y_pred)\n",
    "print 'Accuracy: '+str(accuracy)\n",
    "cm = metrics.confusion_matrix(y_test, y_pred)\n",
    "cm = cm.astype('float') / cm.sum(axis=1)[:, np.newaxis]\n",
    "df_cm = pd.DataFrame(cm)\n",
    "plt.figure()\n",
    "sn.heatmap(df_cm, cmap='Blues', xticklabels=False, yticklabels=False)"
   ]
  },
  {
   "cell_type": "markdown",
   "metadata": {},
   "source": [
    "The accuracy obtained on the evaluation sets is a little different than the accuracy obtained on the cross-validation. It also should be noticed that tere is one bad class, which the most frequently predicted. Such picture will be further as well."
   ]
  },
  {
   "cell_type": "markdown",
   "metadata": {},
   "source": [
    "### 4. Linear models "
   ]
  },
  {
   "cell_type": "markdown",
   "metadata": {},
   "source": [
    "— Try logistic regression and linear SVM on your features. Report accuracy and log loss. Compare it to KNN-classifier. How does performance differ whether you use data scaling or not? How does performance differ if you use on-hot or label encoded categorical features?\n",
    "\n",
    "— Regularization. Play with l1 and l2 regularization parameters. Plot log loss score depending on different C values for l1 and l2 regularizations. What regualarization do you choose with which parameter? Why? \n",
    "\n",
    "— Show normalized confusion matrix for the best obtained model performance on the evaluation set. How does it differ from cross-validation score?"
   ]
  },
  {
   "cell_type": "markdown",
   "metadata": {},
   "source": [
    "Trying logistic regression with l1 and l2 panalties and for different C values."
   ]
  },
  {
   "cell_type": "code",
   "execution_count": 24,
   "metadata": {
    "collapsed": false
   },
   "outputs": [],
   "source": [
    "log_acc_l2 = []\n",
    "lod_log_l2 = []\n",
    "for c in [0.01, 0.2, 0.4, 0.6, 0.8, 1.0]:\n",
    "    clf = linear_model.LogisticRegression(penalty='l2', C=c)\n",
    "    accuracy = cross_validation.cross_val_score(clf, X_train, y_train, scoring='accuracy')\n",
    "    log_loss = cross_validation.cross_val_score(clf, X_train, y_train, scoring='log_loss')\n",
    "    log_acc_l2.append(accuracy.mean())\n",
    "    lod_log_l2.append(-log_loss.mean())"
   ]
  },
  {
   "cell_type": "code",
   "execution_count": 25,
   "metadata": {
    "collapsed": false
   },
   "outputs": [],
   "source": [
    "log_acc_l1 = []\n",
    "lod_log_l1 = []\n",
    "for c in [0.01, 0.2, 0.4, 0.6, 0.8, 1.0]:\n",
    "    clf = linear_model.LogisticRegression(penalty='l1', C=c)\n",
    "    accuracy = cross_validation.cross_val_score(clf, X_train, y_train, scoring='accuracy')\n",
    "    log_loss = cross_validation.cross_val_score(clf, X_train, y_train, scoring='log_loss')\n",
    "    log_acc_l1.append(accuracy.mean())\n",
    "    lod_log_l1.append(-log_loss.mean())"
   ]
  },
  {
   "cell_type": "markdown",
   "metadata": {},
   "source": [
    "Plotting obtained metrics."
   ]
  },
  {
   "cell_type": "code",
   "execution_count": 28,
   "metadata": {
    "collapsed": false
   },
   "outputs": [
    {
     "data": {
      "text/plain": [
       "[<matplotlib.lines.Line2D at 0x1464b070>,\n",
       " <matplotlib.lines.Line2D at 0x1464b170>]"
      ]
     },
     "execution_count": 28,
     "metadata": {},
     "output_type": "execute_result"
    },
    {
     "data": {
      "image/png": "[encoded data removed]",
      "text/plain": [
       "<matplotlib.figure.Figure at 0x14433330>"
      ]
     },
     "metadata": {},
     "output_type": "display_data"
    }
   ],
   "source": [
    "plt.plot([0.01, 0.2, 0.4, 0.6, 0.8, 1.0], lod_log_l2, 'b',\n",
    "         [0.01, 0.2, 0.4, 0.6, 0.8, 1.0], lod_log_l1, 'g')"
   ]
  },
  {
   "cell_type": "markdown",
   "metadata": {},
   "source": [
    "Based on the plot the best possibility is to use l1 penalty with C=0.2. i.e. quite strong l1 penalization."
   ]
  },
  {
   "cell_type": "markdown",
   "metadata": {},
   "source": [
    "Let's also try the linear SVM algorithm."
   ]
  },
  {
   "cell_type": "code",
   "execution_count": 29,
   "metadata": {
    "collapsed": false
   },
   "outputs": [
    {
     "name": "stdout",
     "output_type": "stream",
     "text": [
      "Accuracy: 0.318410924012 +/- 0.00915397091972\n",
      "Log_loss: 2.47686164751 +/- 0.00623459067038\n"
     ]
    }
   ],
   "source": [
    "clf = svm.SVC(kernel='linear', probability=True)\n",
    "accuracy = cross_validation.cross_val_score(clf, X_train, y_train, scoring='accuracy', cv=2)\n",
    "log_loss = cross_validation.cross_val_score(clf, X_train, y_train, scoring='log_loss', cv=2)\n",
    "accuracy5 = accuracy.mean()\n",
    "accuracyStd = accuracy.std()\n",
    "log_loss5 = -log_loss.mean()\n",
    "log_lossStd = log_loss.std()\n",
    "print 'Accuracy: '+str(accuracy5)+' +/- '+str(accuracyStd)\n",
    "print 'Log_loss: '+str(log_loss5)+' +/- '+str(log_lossStd)"
   ]
  },
  {
   "cell_type": "markdown",
   "metadata": {},
   "source": [
    "It takes very long time, but there is no so much difference in perfomance comparing with logistic regression."
   ]
  },
  {
   "cell_type": "markdown",
   "metadata": {},
   "source": [
    "Plotting normalized confusion matrix for the best logistic regression model and compute the accuracy on the evaluation sets."
   ]
  },
  {
   "cell_type": "code",
   "execution_count": 49,
   "metadata": {
    "collapsed": false
   },
   "outputs": [
    {
     "name": "stdout",
     "output_type": "stream",
     "text": [
      "Accuracy: 0.332300061996\n"
     ]
    },
    {
     "data": {
      "text/plain": [
       "<matplotlib.axes._subplots.AxesSubplot at 0x158a9810>"
      ]
     },
     "execution_count": 49,
     "metadata": {},
     "output_type": "execute_result"
    },
    {
     "data": {
      "image/png": "[encoded data removed]",
      "text/plain": [
       "<matplotlib.figure.Figure at 0x15858ed0>"
      ]
     },
     "metadata": {},
     "output_type": "display_data"
    }
   ],
   "source": [
    "clf = linear_model.LogisticRegression(penalty='l1', C=0.2)\n",
    "clf.fit(X_train, y_train)\n",
    "y_pred = clf.predict(X_test)\n",
    "accuracy = metrics.accuracy_score(y_test, y_pred)\n",
    "print 'Accuracy: '+str(accuracy)\n",
    "cm = metrics.confusion_matrix(y_test, y_pred)\n",
    "cm = cm.astype('float') / cm.sum(axis=1)[:, np.newaxis]\n",
    "df_cm = pd.DataFrame(cm)\n",
    "plt.figure()\n",
    "sn.heatmap(df_cm, cmap='Blues', xticklabels=False, yticklabels=False)"
   ]
  },
  {
   "cell_type": "markdown",
   "metadata": {},
   "source": [
    "### 5. Tree-based models"
   ]
  },
  {
   "cell_type": "markdown",
   "metadata": {},
   "source": [
    "— Try vanilla Random Forest, AdaBoost, GBDT from sklearn and GBDT from xgboost. Report cross-validation log loss (mean and std) for each of these models.\n",
    "\n",
    "— Random Forest. Find best parameters for the Random Forest using grid search on cross-validation. Which of them are the most important? Report result on evaluation test. \n",
    "\n",
    "— Adaboost. Find the best values of parameters for the AdaBoost using grid search on cross-validation. Which of them are the most important? Plot learning curve (log loss on each conscutive iteration) for the best AdaBoost on new_train and evaluation sets. Note: staged_predict_proba method can be very useful. \n",
    "\n",
    "— GBDT. Compare speed and performance of sklearn/xgboost GBDT implementation with similar parameters. Which implementation do your choose? Do not forget to utilise all of your CPUs/threads to speed up calculations. Find best parameters for the GBDT using grid search on cross-validation. What are the most important? Plot learning curve (log loss on each consecutive iteration) for the best GBDT on new_train and evaluation sets. Note: staged_predict_proba method can be very useful for sklearn and evals_result method for xgboost.\n"
   ]
  },
  {
   "cell_type": "markdown",
   "metadata": {},
   "source": [
    "#### Random Forest"
   ]
  },
  {
   "cell_type": "markdown",
   "metadata": {},
   "source": [
    "Implementing grid search for Random Forest."
   ]
  },
  {
   "cell_type": "code",
   "execution_count": 31,
   "metadata": {
    "collapsed": false
   },
   "outputs": [
    {
     "data": {
      "text/plain": [
       "{'criterion': 'gini', 'n_estimators': 50}"
      ]
     },
     "execution_count": 31,
     "metadata": {},
     "output_type": "execute_result"
    }
   ],
   "source": [
    "rf = ensemble.RandomForestClassifier()\n",
    "parameters = {'n_estimators':[10, 50, 150], 'criterion':('gini', 'entropy')}\n",
    "clf = grid_search.GridSearchCV(rf, parameters, cv=2)\n",
    "clf.fit(X_train, y_train)\n",
    "clf.best_params_"
   ]
  },
  {
   "cell_type": "markdown",
   "metadata": {},
   "source": [
    "The best parameteres are shown above."
   ]
  },
  {
   "cell_type": "markdown",
   "metadata": {},
   "source": [
    "Checking the model with best parameters on cross-validation."
   ]
  },
  {
   "cell_type": "code",
   "execution_count": 52,
   "metadata": {
    "collapsed": false
   },
   "outputs": [
    {
     "name": "stdout",
     "output_type": "stream",
     "text": [
      "Accuracy: 0.26034226505 +/- 0.00683771313148\n",
      "Log_loss: 9.42991637314 +/- 0.062799137989\n"
     ]
    }
   ],
   "source": [
    "rf = ensemble.RandomForestClassifier(n_estimators=50, criterion='gini')\n",
    "accuracy = cross_validation.cross_val_score(rf, X_train, y_train, scoring='accuracy')\n",
    "log_loss = cross_validation.cross_val_score(rf, X_train, y_train, scoring='log_loss')\n",
    "accuracy6 = accuracy.mean()\n",
    "accuracyStd = accuracy.std()\n",
    "log_loss6 = -log_loss.mean()\n",
    "log_lossStd = log_loss.std()\n",
    "print 'Accuracy: '+str(accuracy6)+' +/- '+str(accuracyStd)\n",
    "print 'Log_loss: '+str(log_loss6)+' +/- '+str(log_lossStd)"
   ]
  },
  {
   "cell_type": "markdown",
   "metadata": {},
   "source": [
    "Applying to evaluation sets."
   ]
  },
  {
   "cell_type": "code",
   "execution_count": 53,
   "metadata": {
    "collapsed": false
   },
   "outputs": [
    {
     "name": "stdout",
     "output_type": "stream",
     "text": [
      "Accuracy: 0.265344079355\n"
     ]
    }
   ],
   "source": [
    "rf = ensemble.RandomForestClassifier(n_estimators=50, criterion='gini')\n",
    "rf.fit(X_train, y_train)\n",
    "y_pred = rf.predict(X_test)\n",
    "accuracy = metrics.accuracy_score(y_test, y_pred)\n",
    "print 'Accuracy: '+str(accuracy)"
   ]
  },
  {
   "cell_type": "markdown",
   "metadata": {},
   "source": [
    "#### Adaboost"
   ]
  },
  {
   "cell_type": "markdown",
   "metadata": {},
   "source": [
    "Implementing grid search for Adaboost."
   ]
  },
  {
   "cell_type": "code",
   "execution_count": 32,
   "metadata": {
    "collapsed": false
   },
   "outputs": [
    {
     "data": {
      "text/plain": [
       "{'algorithm': 'SAMME.R', 'n_estimators': 50}"
      ]
     },
     "execution_count": 32,
     "metadata": {},
     "output_type": "execute_result"
    }
   ],
   "source": [
    "ada = ensemble.AdaBoostClassifier()\n",
    "parameters = {'algorithm':('SAMME', 'SAMME.R'), 'n_estimators':[50, 70, 150]}\n",
    "clf = grid_search.GridSearchCV(ada, parameters, cv=2)\n",
    "clf.fit(X_train, y_train)\n",
    "clf.best_params_"
   ]
  },
  {
   "cell_type": "markdown",
   "metadata": {},
   "source": [
    "The best parameteres are shown above."
   ]
  },
  {
   "cell_type": "markdown",
   "metadata": {},
   "source": [
    "Checking the model with best parameters on cross-validation."
   ]
  },
  {
   "cell_type": "code",
   "execution_count": 54,
   "metadata": {
    "collapsed": false
   },
   "outputs": [
    {
     "name": "stdout",
     "output_type": "stream",
     "text": [
      "Accuracy: 0.273309810009 +/- 0.00951515416253\n",
      "Log_loss: 3.51302945317 +/- 0.00390904056625\n"
     ]
    }
   ],
   "source": [
    "ada = ensemble.AdaBoostClassifier(algorithm = 'SAMME.R', n_estimators = 50)\n",
    "accuracy = cross_validation.cross_val_score(ada, X_train, y_train, scoring='accuracy')\n",
    "log_loss = cross_validation.cross_val_score(ada, X_train, y_train, scoring='log_loss')\n",
    "accuracy7 = accuracy.mean()\n",
    "accuracyStd = accuracy.std()\n",
    "log_loss7 = -log_loss.mean()\n",
    "log_lossStd = log_loss.std()\n",
    "print 'Accuracy: '+str(accuracy7)+' +/- '+str(accuracyStd)\n",
    "print 'Log_loss: '+str(log_loss7)+' +/- '+str(log_lossStd)"
   ]
  },
  {
   "cell_type": "markdown",
   "metadata": {},
   "source": [
    "Plotting learning curve on evaluation sets."
   ]
  },
  {
   "cell_type": "code",
   "execution_count": 49,
   "metadata": {
    "collapsed": false
   },
   "outputs": [
    {
     "data": {
      "text/plain": [
       "[<matplotlib.lines.Line2D at 0x21382b50>]"
      ]
     },
     "execution_count": 49,
     "metadata": {},
     "output_type": "execute_result"
    },
    {
     "data": {
      "image/png": "[encoded data removed]",
      "text/plain": [
       "<matplotlib.figure.Figure at 0x16d0fdb0>"
      ]
     },
     "metadata": {},
     "output_type": "display_data"
    }
   ],
   "source": [
    "ada = ensemble.AdaBoostClassifier(algorithm = 'SAMME.R', n_estimators = 50)\n",
    "ada.fit(X_train, y_train)\n",
    "y_stage = ada.staged_predict_proba(X_test)\n",
    "learn_curve = []\n",
    "for y_pred in y_stage:\n",
    "    learn_curve.append(metrics.log_loss(y_test, y_pred))\n",
    "plt.plot(learn_curve)"
   ]
  },
  {
   "cell_type": "markdown",
   "metadata": {},
   "source": [
    "#### GBDT"
   ]
  },
  {
   "cell_type": "markdown",
   "metadata": {},
   "source": [
    "Implementing grid search for GBDT (sklearn)."
   ]
  },
  {
   "cell_type": "code",
   "execution_count": 37,
   "metadata": {
    "collapsed": false
   },
   "outputs": [
    {
     "data": {
      "text/plain": [
       "{'max_depth': 1, 'n_estimators': 150}"
      ]
     },
     "execution_count": 37,
     "metadata": {},
     "output_type": "execute_result"
    }
   ],
   "source": [
    "gbdt = ensemble.GradientBoostingClassifier()\n",
    "parameters = {'max_depth':[1,3], 'n_estimators':[100, 150]}\n",
    "clf = grid_search.GridSearchCV(gbdt, parameters, cv=2)\n",
    "clf.fit(X_train, y_train)\n",
    "clf.best_params_"
   ]
  },
  {
   "cell_type": "markdown",
   "metadata": {},
   "source": [
    "The best parameteres are shown above."
   ]
  },
  {
   "cell_type": "markdown",
   "metadata": {},
   "source": [
    "Checking the model with best parameters on cross-validation."
   ]
  },
  {
   "cell_type": "code",
   "execution_count": 56,
   "metadata": {
    "collapsed": false
   },
   "outputs": [
    {
     "name": "stdout",
     "output_type": "stream",
     "text": [
      "Accuracy: 0.327946139349 +/- 0.00291500609837\n",
      "Log_loss: 2.35625286102 +/- 0.00759054292157\n"
     ]
    }
   ],
   "source": [
    "gbdt = ensemble.GradientBoostingClassifier(max_depth = 1, n_estimators = 150)\n",
    "accuracy = cross_validation.cross_val_score(gbdt, X_train, y_train, scoring='accuracy',cv=2)\n",
    "log_loss = cross_validation.cross_val_score(gbdt, X_train, y_train, scoring='log_loss',cv=2)\n",
    "accuracy8 = accuracy.mean()\n",
    "accuracyStd = accuracy.std()\n",
    "log_loss8 = -log_loss.mean()\n",
    "log_lossStd = log_loss.std()\n",
    "print 'Accuracy: '+str(accuracy8)+' +/- '+str(accuracyStd)\n",
    "print 'Log_loss: '+str(log_loss8)+' +/- '+str(log_lossStd)"
   ]
  },
  {
   "cell_type": "markdown",
   "metadata": {},
   "source": [
    "Plotting learning curve on evaluation sets."
   ]
  },
  {
   "cell_type": "code",
   "execution_count": 50,
   "metadata": {
    "collapsed": false
   },
   "outputs": [
    {
     "data": {
      "text/plain": [
       "[<matplotlib.lines.Line2D at 0x212f3a90>]"
      ]
     },
     "execution_count": 50,
     "metadata": {},
     "output_type": "execute_result"
    },
    {
     "data": {
      "image/png": "[encoded data removed]",
      "text/plain": [
       "<matplotlib.figure.Figure at 0x1f342ef0>"
      ]
     },
     "metadata": {},
     "output_type": "display_data"
    }
   ],
   "source": [
    "gbdt = ensemble.GradientBoostingClassifier(max_depth = 1, n_estimators = 150)\n",
    "gbdt.fit(X_train, y_train)\n",
    "y_stage = gbdt.staged_predict_proba(X_test)\n",
    "learn_curve = []\n",
    "for y_pred in y_stage:\n",
    "    learn_curve.append(metrics.log_loss(y_test, y_pred))\n",
    "plt.plot(learn_curve)"
   ]
  },
  {
   "cell_type": "markdown",
   "metadata": {},
   "source": [
    "### 6. Model comaprison and combination"
   ]
  },
  {
   "cell_type": "markdown",
   "metadata": {},
   "source": [
    "— Compare performance of all used models in terms of accuracy and log loss on evaluation. What is the best single model performance?\n",
    "\n",
    "— (optional) Try to imporve your single model performnace with weighted combination of other models predictions. Note: sklearn VotingClassifier with 'softmax' option can be useful. What is the best model performance on evaluation?"
   ]
  },
  {
   "cell_type": "markdown",
   "metadata": {},
   "source": [
    "The performance of all the models with the best parameters is presented in the summary table below."
   ]
  },
  {
   "cell_type": "code",
   "execution_count": 61,
   "metadata": {
    "collapsed": false
   },
   "outputs": [
    {
     "data": {
      "text/html": [
       "<div>\n",
       "<table border=\"1\" class=\"dataframe\">\n",
       "  <thead>\n",
       "    <tr style=\"text-align: right;\">\n",
       "      <th></th>\n",
       "      <th>KNN Classifier</th>\n",
       "      <th>Logistic Regression</th>\n",
       "      <th>Linear SVM</th>\n",
       "      <th>Random Forest</th>\n",
       "      <th>Adaboost</th>\n",
       "      <th>GBDT</th>\n",
       "    </tr>\n",
       "  </thead>\n",
       "  <tbody>\n",
       "    <tr>\n",
       "      <th>accuracy</th>\n",
       "      <td>0.291741</td>\n",
       "      <td>0.333929</td>\n",
       "      <td>0.318411</td>\n",
       "      <td>0.260342</td>\n",
       "      <td>0.273310</td>\n",
       "      <td>0.327946</td>\n",
       "    </tr>\n",
       "    <tr>\n",
       "      <th>log_loss</th>\n",
       "      <td>7.099932</td>\n",
       "      <td>2.311369</td>\n",
       "      <td>2.476862</td>\n",
       "      <td>9.429916</td>\n",
       "      <td>3.513029</td>\n",
       "      <td>2.356253</td>\n",
       "    </tr>\n",
       "  </tbody>\n",
       "</table>\n",
       "</div>"
      ],
      "text/plain": [
       "          KNN Classifier  Logistic Regression  Linear SVM  Random Forest  \\\n",
       "accuracy        0.291741             0.333929    0.318411       0.260342   \n",
       "log_loss        7.099932             2.311369    2.476862       9.429916   \n",
       "\n",
       "          Adaboost      GBDT  \n",
       "accuracy  0.273310  0.327946  \n",
       "log_loss  3.513029  2.356253  "
      ]
     },
     "execution_count": 61,
     "metadata": {},
     "output_type": "execute_result"
    }
   ],
   "source": [
    "results = [[accuracy3,log_loss3],[log_acc_l1[1],lod_log_l1[1]],[accuracy5,log_loss5],\n",
    "           [accuracy6,log_loss6],[accuracy7,log_loss7],[accuracy8,log_loss8]]\n",
    "results = np.transpose(results)\n",
    "pd.DataFrame(results, index = ['accuracy', 'log_loss'],\n",
    "             columns=['KNN Classifier', 'Logistic Regression', 'Linear SVM',\n",
    "                      'Random Forest', 'Adaboost', 'GBDT'])"
   ]
  },
  {
   "cell_type": "markdown",
   "metadata": {},
   "source": [
    "So, the best two algorithms here are Logistic Regression and GBDT."
   ]
  },
  {
   "cell_type": "markdown",
   "metadata": {},
   "source": [
    "Let,s try to improve the performance by combining three best models."
   ]
  },
  {
   "cell_type": "code",
   "execution_count": 66,
   "metadata": {
    "collapsed": false
   },
   "outputs": [
    {
     "name": "stdout",
     "output_type": "stream",
     "text": [
      "Accuracy: 0.332290940288\n",
      "Log_loss: 2.45311428915\n"
     ]
    }
   ],
   "source": [
    "gbdt = ensemble.GradientBoostingClassifier(max_depth = 1, n_estimators = 150)\n",
    "lr = linear_model.LogisticRegression(penalty='l1', C=0.2)\n",
    "ada = ensemble.AdaBoostClassifier(algorithm = 'SAMME.R', n_estimators = 50)\n",
    "clfs = [('gbdt',gbdt),('lr',lr),('ada',ada)]\n",
    "vclf = ensemble.VotingClassifier(clfs, voting = 'soft')\n",
    "accuracy = cross_validation.cross_val_score(vclf, X_train, y_train, scoring='accuracy',cv=2)\n",
    "log_loss = cross_validation.cross_val_score(vclf, X_train, y_train, scoring='log_loss',cv=2)\n",
    "accuracy = accuracy.mean()\n",
    "log_loss = -log_loss.mean()\n",
    "print 'Accuracy: '+str(accuracy)\n",
    "print 'Log_loss: '+str(log_loss)"
   ]
  },
  {
   "cell_type": "markdown",
   "metadata": {},
   "source": [
    "Unfortunately, there is no considerable improvement here."
   ]
  }
 ],
 "metadata": {
  "kernelspec": {
   "display_name": "Python 2",
   "language": "python",
   "name": "python2"
  },
  "language_info": {
   "codemirror_mode": {
    "name": "ipython",
    "version": 2
   },
   "file_extension": ".py",
   "mimetype": "text/x-python",
   "name": "python",
   "nbconvert_exporter": "python",
   "pygments_lexer": "ipython2",
   "version": "2.7.11"
  }
 },
 "nbformat": 4,
 "nbformat_minor": 0
}
