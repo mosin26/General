{
 "cells": [
  {
   "cell_type": "markdown",
   "metadata": {
    "collapsed": true
   },
   "source": [
    "# Homework 2\n",
    "\n",
    "Author: Dmitry Ignatov, lecturer.\n",
    "\n",
    "\n",
    "Your report (as ipython-notebook preferebaly) should be prepared by June 17.\n",
    "\n",
    "The letter with the report should be sent to these emails: dmitrii.ignatov@gmail.com, ivannnnz@gmail.com, and  to.dmitry.petrov@gmail.com. The topic of the letter must have the following format [CS-ML2016m-HW2]-LAST NAME-FIRST NAME.\n",
    "\n",
    "Max mark is 10.\n",
    "\n",
    "You can use the material below for all purposes except of commercial. All the code examples can be also found in Toby Segaran book 'Programming Collective Intelligence' (chaper 2):  http://shop.oreilly.com/product/9780596529321.do\n",
    "\n",
    "The two required tasks are given at the end of the file.\n"
   ]
  },
  {
   "cell_type": "markdown",
   "metadata": {},
   "source": [
    "## Dictionary with users' preferences"
   ]
  },
  {
   "cell_type": "code",
   "execution_count": 52,
   "metadata": {
    "collapsed": true
   },
   "outputs": [],
   "source": [
    "# A dictionary of movie critics and their ratings of a small\n",
    "# set of movies\n",
    "critics={'Lisa Rose': {'Lady in the Water': 2.5, 'Snakes on a Plane': 3.5,\n",
    " 'Just My Luck': 3.0, 'Superman Returns': 3.5, 'You, Me and Dupree': 2.5, \n",
    " 'The Night Listener': 3.0},\n",
    "'Gene Seymour': {'Lady in the Water': 3.0, 'Snakes on a Plane': 3.5, \n",
    " 'Just My Luck': 1.5, 'Superman Returns': 5.0, 'The Night Listener': 3.0, \n",
    " 'You, Me and Dupree': 3.5}, \n",
    "'Michael Phillips': {'Lady in the Water': 2.5, 'Snakes on a Plane': 3.0,\n",
    " 'Superman Returns': 3.5, 'The Night Listener': 4.0},\n",
    "'Claudia Puig': {'Snakes on a Plane': 3.5, 'Just My Luck': 3.0,\n",
    " 'The Night Listener': 4.5, 'Superman Returns': 4.0, \n",
    " 'You, Me and Dupree': 2.5},\n",
    "'Mick LaSalle': {'Lady in the Water': 3.0, 'Snakes on a Plane': 4.0, \n",
    " 'Just My Luck': 2.0, 'Superman Returns': 3.0, 'The Night Listener': 3.0,\n",
    " 'You, Me and Dupree': 2.0}, \n",
    "'Jack Matthews': {'Lady in the Water': 3.0, 'Snakes on a Plane': 4.0,\n",
    " 'The Night Listener': 3.0, 'Superman Returns': 5.0, 'You, Me and Dupree': 3.5},\n",
    "'Toby': {'Snakes on a Plane':4.5,'You, Me and Dupree':1.0,'Superman Returns':4.0}}\n"
   ]
  },
  {
   "cell_type": "code",
   "execution_count": 2,
   "metadata": {
    "collapsed": false
   },
   "outputs": [
    {
     "data": {
      "text/plain": [
       "{'Snakes on a Plane': 4.5, 'Superman Returns': 4.0, 'You, Me and Dupree': 1.0}"
      ]
     },
     "execution_count": 2,
     "metadata": {},
     "output_type": "execute_result"
    }
   ],
   "source": [
    "critics['Toby']"
   ]
  },
  {
   "cell_type": "code",
   "execution_count": 3,
   "metadata": {
    "collapsed": false
   },
   "outputs": [
    {
     "data": {
      "text/plain": [
       "2.5"
      ]
     },
     "execution_count": 3,
     "metadata": {},
     "output_type": "execute_result"
    }
   ],
   "source": [
    "critics['Lisa Rose']['Lady in the Water']\n"
   ]
  },
  {
   "cell_type": "code",
   "execution_count": 1,
   "metadata": {
    "collapsed": false
   },
   "outputs": [
    {
     "data": {
      "text/plain": [
       "3.1622776601683795"
      ]
     },
     "execution_count": 1,
     "metadata": {},
     "output_type": "execute_result"
    }
   ],
   "source": [
    "#Claculate Euclidean distance\n",
    "from math import sqrt\n",
    "sqrt(pow(5-4,2)+pow(4-1,2))\n"
   ]
  },
  {
   "cell_type": "code",
   "execution_count": 6,
   "metadata": {
    "collapsed": false
   },
   "outputs": [
    {
     "data": {
      "text/plain": [
       "0.2402530733520421"
      ]
     },
     "execution_count": 6,
     "metadata": {},
     "output_type": "execute_result"
    }
   ],
   "source": [
    "#Transform distance to similarity\n",
    "1/(1+sqrt(pow(5-4,2)+pow(4-1,2)))\n"
   ]
  },
  {
   "cell_type": "code",
   "execution_count": 1,
   "metadata": {
    "collapsed": false
   },
   "outputs": [],
   "source": [
    "from math import sqrt\n",
    "# Returns a distance-based similarity score for person1 and person2\n",
    "def sim_distance(prefs,person1,person2):\n",
    "# Get the list of shared_items\n",
    "    si={}\n",
    "    for item in prefs[person1]:\n",
    "        if item in prefs[person2]:\n",
    "            si[item]=1\n",
    "# if they have no ratings in common, return 0\n",
    "    if len(si)==0: return 0\n",
    "# Add up the squares of all the differences\n",
    "    sum_of_squares=sum([pow(prefs[person1][item]-prefs[person2][item],2)\n",
    "    for item in prefs[person1] if item in prefs[person2]])\n",
    "    return 1/(1+sum_of_squares)\n"
   ]
  },
  {
   "cell_type": "code",
   "execution_count": 8,
   "metadata": {
    "collapsed": false
   },
   "outputs": [
    {
     "data": {
      "text/plain": [
       "0.14814814814814814"
      ]
     },
     "execution_count": 8,
     "metadata": {},
     "output_type": "execute_result"
    }
   ],
   "source": [
    "sim_distance(critics, 'Lisa Rose','Gene Seymour')"
   ]
  },
  {
   "cell_type": "code",
   "execution_count": 2,
   "metadata": {
    "collapsed": true
   },
   "outputs": [],
   "source": [
    "# Returns the Pearson correlation coefficient for p1 and p2\n",
    "def sim_pearson(prefs,p1,p2):\n",
    "# Get the list of mutually rated items\n",
    "    si={}\n",
    "    for item in prefs[p1]: \n",
    "        if item in prefs[p2]: si[item]=1\n",
    "\n",
    "    # if they have no ratings in common, return 0\n",
    "    if len(si)==0: return 0\n",
    "\n",
    "    # Sum calculations\n",
    "    n=len(si)\n",
    "  \n",
    "    # Sums of all the preferences\n",
    "    sum1=sum([prefs[p1][it] for it in si])\n",
    "    sum2=sum([prefs[p2][it] for it in si])\n",
    "  \n",
    "    # Sums of the squares\n",
    "    sum1Sq=sum([pow(prefs[p1][it],2) for it in si])\n",
    "    sum2Sq=sum([pow(prefs[p2][it],2) for it in si])\t\n",
    "  \n",
    "    # Sum of the products\n",
    "    pSum=sum([prefs[p1][it]*prefs[p2][it] for it in si])\n",
    "  \n",
    "    # Calculate r (Pearson score)\n",
    "    num=pSum-(sum1*sum2/n)\n",
    "    den=sqrt((sum1Sq-pow(sum1,2)/n)*(sum2Sq-pow(sum2,2)/n))\n",
    "    if den==0: return 0\n",
    "\n",
    "    r=num/den\n",
    "\n",
    "    return r"
   ]
  },
  {
   "cell_type": "code",
   "execution_count": 10,
   "metadata": {
    "collapsed": false
   },
   "outputs": [
    {
     "data": {
      "text/plain": [
       "0.39605901719066977"
      ]
     },
     "execution_count": 10,
     "metadata": {},
     "output_type": "execute_result"
    }
   ],
   "source": [
    "sim_pearson(critics,'Lisa Rose','Gene Seymour')\n"
   ]
  },
  {
   "cell_type": "markdown",
   "metadata": {},
   "source": [
    "## Ranking of critics"
   ]
  },
  {
   "cell_type": "code",
   "execution_count": 3,
   "metadata": {
    "collapsed": true
   },
   "outputs": [],
   "source": [
    "# Returns the best matches for person from the prefs dictionary. \n",
    "# Number of results and similarity function are optional params.\n",
    "def topMatches(prefs,person,n,similarity):\n",
    "    scores=[(similarity(prefs,person,other),other)\n",
    "    for other in prefs if other!=person]\n",
    "    # sort the marks in descending order\n",
    "    scores.sort( )\n",
    "    scores.reverse( )\n",
    "    return scores[0:n]"
   ]
  },
  {
   "cell_type": "code",
   "execution_count": 60,
   "metadata": {
    "collapsed": false
   },
   "outputs": [
    {
     "data": {
      "text/plain": [
       "[(0.9912407071619299, 'Lisa Rose'),\n",
       " (0.9244734516419049, 'Mick LaSalle'),\n",
       " (0.8934051474415647, 'Claudia Puig')]"
      ]
     },
     "execution_count": 60,
     "metadata": {},
     "output_type": "execute_result"
    }
   ],
   "source": [
    "topMatches(critics,'Toby',3,sim_pearson)"
   ]
  },
  {
   "cell_type": "markdown",
   "metadata": {},
   "source": [
    "## Movie recommendation"
   ]
  },
  {
   "cell_type": "code",
   "execution_count": 4,
   "metadata": {
    "collapsed": false
   },
   "outputs": [],
   "source": [
    "# Gets recommendations for a person by using a weighted average\n",
    "# of every other user's rankings\n",
    "def getRecommendations(prefs,person,n,similarity):\n",
    "    totals={}\n",
    "    simSums={}\n",
    "    # compute other persons who are similar to the given person\n",
    "    similar_persons = topMatches(prefs,person,n,similarity)\n",
    "    similar_persons = {key:value for (value,key) in similar_persons}\n",
    "    # loop over only similar persons\n",
    "    for other in similar_persons:\n",
    "    # don't compare me to myself\n",
    "        if other==person: continue\n",
    "        sim=similarity(prefs,person,other)\n",
    "    # ignore scores of zero or lower\n",
    "        if sim<=0: continue\n",
    "        for item in prefs[other]:\n",
    "    # only score movies I haven't seen yet\n",
    "            if item not in prefs[person] or prefs[person][item]==0:\n",
    "    # Similarity * Score\n",
    "                totals.setdefault(item,0)\n",
    "                totals[item]+=prefs[other][item]*sim\n",
    "        # Sum of similarities\n",
    "                simSums.setdefault(item,0)\n",
    "                simSums[item]+=sim\n",
    "    # Create the normalized list\n",
    "    rankings=[(total/simSums[item],item) for item,total in totals.items( )]\n",
    "    # Return the sorted list\n",
    "    rankings.sort( )\n",
    "    rankings.reverse( )\n",
    "    return rankings"
   ]
  },
  {
   "cell_type": "code",
   "execution_count": 63,
   "metadata": {
    "collapsed": false
   },
   "outputs": [
    {
     "data": {
      "text/plain": [
       "[(3.4770561784908676, 'The Night Listener'),\n",
       " (2.741286897471996, 'Lady in the Water'),\n",
       " (2.6709027453598853, 'Just My Luck')]"
      ]
     },
     "execution_count": 63,
     "metadata": {},
     "output_type": "execute_result"
    }
   ],
   "source": [
    "getRecommendations(critics,'Toby',3,sim_pearson)"
   ]
  },
  {
   "cell_type": "code",
   "execution_count": 64,
   "metadata": {
    "collapsed": false
   },
   "outputs": [
    {
     "data": {
      "text/plain": [
       "[(3.770670826833074, 'The Night Listener'),\n",
       " (2.759259259259259, 'Lady in the Water'),\n",
       " (2.433333333333333, 'Just My Luck')]"
      ]
     },
     "execution_count": 64,
     "metadata": {},
     "output_type": "execute_result"
    }
   ],
   "source": [
    "getRecommendations(critics,'Toby',3,sim_distance)"
   ]
  },
  {
   "cell_type": "markdown",
   "metadata": {},
   "source": [
    "## Similarity of items\n",
    "\n",
    "How to change\n",
    "\n",
    "{'Lisa Rose': {'Lady in the Water': 2.5, 'Snakes on a Plane': 3.5},\n",
    "'Gene Seymour': {'Lady in the Water': 3.0, 'Snakes on a Plane': 3.5}}\n",
    "\n",
    "by\n",
    "\n",
    "{'Lady in the Water':{'Lisa Rose':2.5,'Gene Seymour':3.0},\n",
    "'Snakes on a Plane':{'Lisa Rose':3.5,'Gene Seymour':3.5}}?\n"
   ]
  },
  {
   "cell_type": "code",
   "execution_count": 5,
   "metadata": {
    "collapsed": false
   },
   "outputs": [],
   "source": [
    "def transformPrefs(prefs):\n",
    "    result={}\n",
    "    for person in prefs:\n",
    "        for item in prefs[person]:\n",
    "            result.setdefault(item,{})\n",
    "    # Flip item and person\n",
    "            result[item][person]=prefs[person][item]\n",
    "    return result"
   ]
  },
  {
   "cell_type": "code",
   "execution_count": 17,
   "metadata": {
    "collapsed": false
   },
   "outputs": [],
   "source": [
    "movies=transformPrefs(critics)"
   ]
  },
  {
   "cell_type": "code",
   "execution_count": 18,
   "metadata": {
    "collapsed": false
   },
   "outputs": [
    {
     "data": {
      "text/plain": [
       "{'Just My Luck': {'Claudia Puig': 3.0,\n",
       "  'Gene Seymour': 1.5,\n",
       "  'Lisa Rose': 3.0,\n",
       "  'Mick LaSalle': 2.0},\n",
       " 'Lady in the Water': {'Gene Seymour': 3.0,\n",
       "  'Jack Matthews': 3.0,\n",
       "  'Lisa Rose': 2.5,\n",
       "  'Michael Phillips': 2.5,\n",
       "  'Mick LaSalle': 3.0},\n",
       " 'Snakes on a Plane': {'Claudia Puig': 3.5,\n",
       "  'Gene Seymour': 3.5,\n",
       "  'Jack Matthews': 4.0,\n",
       "  'Lisa Rose': 3.5,\n",
       "  'Michael Phillips': 3.0,\n",
       "  'Mick LaSalle': 4.0,\n",
       "  'Toby': 4.5},\n",
       " 'Superman Returns': {'Claudia Puig': 4.0,\n",
       "  'Gene Seymour': 5.0,\n",
       "  'Jack Matthews': 5.0,\n",
       "  'Lisa Rose': 3.5,\n",
       "  'Michael Phillips': 3.5,\n",
       "  'Mick LaSalle': 3.0,\n",
       "  'Toby': 4.0},\n",
       " 'The Night Listener': {'Claudia Puig': 4.5,\n",
       "  'Gene Seymour': 3.0,\n",
       "  'Jack Matthews': 3.0,\n",
       "  'Lisa Rose': 3.0,\n",
       "  'Michael Phillips': 4.0,\n",
       "  'Mick LaSalle': 3.0},\n",
       " 'You, Me and Dupree': {'Claudia Puig': 2.5,\n",
       "  'Gene Seymour': 3.5,\n",
       "  'Jack Matthews': 3.5,\n",
       "  'Lisa Rose': 2.5,\n",
       "  'Mick LaSalle': 2.0,\n",
       "  'Toby': 1.0}}"
      ]
     },
     "execution_count": 18,
     "metadata": {},
     "output_type": "execute_result"
    }
   ],
   "source": [
    "movies"
   ]
  },
  {
   "cell_type": "code",
   "execution_count": 41,
   "metadata": {
    "collapsed": false
   },
   "outputs": [
    {
     "data": {
      "text/plain": [
       "[(0.6579516949597695, 'You, Me and Dupree'),\n",
       " (0.4879500364742689, 'Lady in the Water'),\n",
       " (0.11180339887498941, 'Snakes on a Plane'),\n",
       " (-0.1798471947990544, 'The Night Listener'),\n",
       " (-0.42289003161103106, 'Just My Luck')]"
      ]
     },
     "execution_count": 41,
     "metadata": {},
     "output_type": "execute_result"
    }
   ],
   "source": [
    "topMatches(movies,'Superman Returns')"
   ]
  },
  {
   "cell_type": "code",
   "execution_count": 35,
   "metadata": {
    "collapsed": false
   },
   "outputs": [
    {
     "data": {
      "text/plain": [
       "[(4.0, 'Michael Phillips'), (3.0, 'Jack Matthews')]"
      ]
     },
     "execution_count": 35,
     "metadata": {},
     "output_type": "execute_result"
    }
   ],
   "source": [
    "getRecommendations(movies,'Just My Luck')"
   ]
  },
  {
   "cell_type": "markdown",
   "metadata": {},
   "source": [
    "## Item-based collaborative filtering"
   ]
  },
  {
   "cell_type": "code",
   "execution_count": 6,
   "metadata": {
    "collapsed": false
   },
   "outputs": [],
   "source": [
    "def calculateSimilarItems(prefs,n,similarity):\n",
    "    # Create a dictionary of items showing which other items they\n",
    "    # are most similar to.\n",
    "    result={}\n",
    "    # Invert the preference matrix to be item-centric\n",
    "    itemPrefs=transformPrefs(prefs)\n",
    "    #c=0\n",
    "    for item in itemPrefs:\n",
    "    # Status updates for large datasets\n",
    "        #c+=1\n",
    "        #if c%100==0: print \"%d / %d\" % (c,len(itemPrefs))\n",
    "    # Find the most similar items to this one\n",
    "        scores=topMatches(itemPrefs,item,n,similarity)\n",
    "        result[item]=scores\n",
    "    return result"
   ]
  },
  {
   "cell_type": "code",
   "execution_count": 68,
   "metadata": {
    "collapsed": false
   },
   "outputs": [
    {
     "data": {
      "text/plain": [
       "{'Just My Luck': [(0.5555555555555556, 'The Night Listener'),\n",
       "  (-0.3333333333333333, 'Snakes on a Plane')],\n",
       " 'Lady in the Water': [(0.7637626158259785, 'Snakes on a Plane'),\n",
       "  (0.4879500364742689, 'Superman Returns')],\n",
       " 'Snakes on a Plane': [(0.7637626158259785, 'Lady in the Water'),\n",
       "  (0.11180339887498941, 'Superman Returns')],\n",
       " 'Superman Returns': [(0.6579516949597695, 'You, Me and Dupree'),\n",
       "  (0.4879500364742689, 'Lady in the Water')],\n",
       " 'The Night Listener': [(0.5555555555555556, 'Just My Luck'),\n",
       "  (-0.1798471947990544, 'Superman Returns')],\n",
       " 'You, Me and Dupree': [(0.6579516949597695, 'Superman Returns'),\n",
       "  (0.3333333333333333, 'Lady in the Water')]}"
      ]
     },
     "execution_count": 68,
     "metadata": {},
     "output_type": "execute_result"
    }
   ],
   "source": [
    "itemsim=calculateSimilarItems(critics,2,sim_pearson)\n",
    "itemsim"
   ]
  },
  {
   "cell_type": "code",
   "execution_count": 7,
   "metadata": {
    "collapsed": false
   },
   "outputs": [],
   "source": [
    "def getRecommendedItems(prefs,itemMatch,user):\n",
    "    userRatings=prefs[user]\n",
    "    scores={}\n",
    "    totalSim={}\n",
    "\n",
    "    # Loop over items rated by this user\n",
    "    for (item,rating) in userRatings.items():\n",
    "        \n",
    "    # Loop over items similar to this one\n",
    "        for (similarity,item2) in itemMatch[item]:\n",
    "    # Ignore if this user has already rated this item\n",
    "            if item2 in userRatings: continue\n",
    "        # Weighted sum of rating times similarity\n",
    "            scores.setdefault(item2,0)\n",
    "            scores[item2]+=similarity*rating\n",
    "        # Sum of all the similarities\n",
    "            totalSim.setdefault(item2,0)\n",
    "            totalSim[item2]+=similarity\n",
    "            if totalSim[item2]==0: totalSim[item2]=0.0000001 # to avoid division by zero\n",
    "    # Divide each total score by total weighting to get an average\n",
    "    rankings=[(score/totalSim[item],item) for item,score in scores.items( ) ]\n",
    "\n",
    "    # Return the rankings from highest to lowest\n",
    "    rankings.sort( )\n",
    "    rankings.reverse( )\n",
    "    return rankings"
   ]
  },
  {
   "cell_type": "code",
   "execution_count": 70,
   "metadata": {
    "collapsed": false
   },
   "outputs": [
    {
     "data": {
      "text/plain": [
       "[(3.610031066802182, 'Lady in the Water')]"
      ]
     },
     "execution_count": 70,
     "metadata": {},
     "output_type": "execute_result"
    }
   ],
   "source": [
    "getRecommendedItems(critics,itemsim,'Toby')"
   ]
  },
  {
   "cell_type": "markdown",
   "metadata": {},
   "source": [
    "## Recommendations for MovieLens dataset\n",
    "\n",
    "Data source: http://grouplens.org/datasets/movielens/"
   ]
  },
  {
   "cell_type": "code",
   "execution_count": 8,
   "metadata": {
    "collapsed": true
   },
   "outputs": [],
   "source": [
    "def loadMovieLens(path='movielens'):\n",
    "# Get movie titles\n",
    "    movies={}\n",
    "    for line in open(path+'/u.item'):\n",
    "        (id,title)=line.split('|')[0:2]\n",
    "        movies[id]=title\n",
    "# Load data\n",
    "    prefs={}\n",
    "    for line in open(path+'/u.data'):\n",
    "        (user,movieid,rating,ts)=line.split('\\t')\n",
    "        prefs.setdefault(user,{})\n",
    "        prefs[user][movies[movieid]]=float(rating)\n",
    "    return prefs"
   ]
  },
  {
   "cell_type": "code",
   "execution_count": 72,
   "metadata": {
    "collapsed": false
   },
   "outputs": [
    {
     "data": {
      "text/plain": [
       "{'2001: A Space Odyssey (1968)': 5.0,\n",
       " 'Ace Ventura: Pet Detective (1994)': 4.0,\n",
       " 'Addams Family Values (1993)': 2.0,\n",
       " 'Addicted to Love (1997)': 4.0,\n",
       " 'Adventures of Priscilla, Queen of the Desert, The (1994)': 3.0,\n",
       " 'Adventures of Robin Hood, The (1938)': 5.0,\n",
       " 'Air Force One (1997)': 3.0,\n",
       " 'Air Up There, The (1994)': 3.0,\n",
       " 'Alien (1979)': 4.0,\n",
       " 'American President, The (1995)': 5.0,\n",
       " 'Annie Hall (1977)': 4.0,\n",
       " 'Apocalypse Now (1979)': 4.0,\n",
       " 'Babe (1995)': 5.0,\n",
       " 'Baby-Sitters Club, The (1995)': 2.0,\n",
       " 'Back to the Future (1985)': 5.0,\n",
       " 'Bad Boys (1995)': 4.0,\n",
       " 'Bananas (1971)': 5.0,\n",
       " 'Barcelona (1994)': 3.0,\n",
       " 'Batman & Robin (1997)': 4.0,\n",
       " 'Batman (1989)': 3.0,\n",
       " 'Batman Returns (1992)': 3.0,\n",
       " 'Big Green, The (1995)': 3.0,\n",
       " 'Big Squeeze, The (1996)': 2.0,\n",
       " 'Birdcage, The (1996)': 4.0,\n",
       " 'Blade Runner (1982)': 4.0,\n",
       " 'Blues Brothers, The (1980)': 5.0,\n",
       " 'Boomerang (1992)': 3.0,\n",
       " 'Boot, Das (1981)': 4.0,\n",
       " 'Brady Bunch Movie, The (1995)': 2.0,\n",
       " 'Braveheart (1995)': 4.0,\n",
       " 'Bridge on the River Kwai, The (1957)': 5.0,\n",
       " 'Broken Arrow (1996)': 3.0,\n",
       " 'Butch Cassidy and the Sundance Kid (1969)': 5.0,\n",
       " 'Citizen Kane (1941)': 4.0,\n",
       " \"City Slickers II: The Legend of Curly's Gold (1994)\": 3.0,\n",
       " 'Clear and Present Danger (1994)': 5.0,\n",
       " 'Cliffhanger (1993)': 3.0,\n",
       " 'Clockwork Orange, A (1971)': 4.0,\n",
       " 'Clueless (1995)': 4.0,\n",
       " 'Con Air (1997)': 4.0,\n",
       " 'Conan the Barbarian (1981)': 3.0,\n",
       " 'Coneheads (1993)': 4.0,\n",
       " 'Cool Hand Luke (1967)': 5.0,\n",
       " 'Cops and Robbersons (1994)': 3.0,\n",
       " 'Cowboy Way, The (1994)': 3.0,\n",
       " 'Crow, The (1994)': 3.0,\n",
       " 'Dances with Wolves (1990)': 5.0,\n",
       " \"Dante's Peak (1997)\": 3.0,\n",
       " 'Dave (1993)': 4.0,\n",
       " 'Days of Thunder (1990)': 5.0,\n",
       " 'Dead Man Walking (1995)': 4.0,\n",
       " 'Dead Poets Society (1989)': 5.0,\n",
       " 'Deer Hunter, The (1978)': 3.0,\n",
       " 'Demolition Man (1993)': 3.0,\n",
       " 'Desperado (1995)': 3.0,\n",
       " 'Die Hard (1988)': 4.0,\n",
       " 'Die Hard: With a Vengeance (1995)': 4.0,\n",
       " 'Down Periscope (1996)': 4.0,\n",
       " 'Dragonheart (1996)': 4.0,\n",
       " 'Dumb & Dumber (1994)': 4.0,\n",
       " 'Dunston Checks In (1996)': 1.0,\n",
       " 'E.T. the Extra-Terrestrial (1982)': 3.0,\n",
       " 'Ed Wood (1994)': 3.0,\n",
       " 'Empire Strikes Back, The (1980)': 5.0,\n",
       " 'Endless Summer 2, The (1994)': 3.0,\n",
       " 'Evil Dead II (1987)': 2.0,\n",
       " 'Executive Decision (1996)': 3.0,\n",
       " 'Fargo (1996)': 5.0,\n",
       " 'First Wives Club, The (1996)': 2.0,\n",
       " 'Fish Called Wanda, A (1988)': 5.0,\n",
       " 'Forget Paris (1995)': 4.0,\n",
       " 'Four Weddings and a Funeral (1994)': 5.0,\n",
       " 'French Kiss (1995)': 5.0,\n",
       " 'Fugitive, The (1993)': 5.0,\n",
       " 'Full Metal Jacket (1987)': 4.0,\n",
       " 'Get Shorty (1995)': 5.0,\n",
       " 'Glory (1989)': 4.0,\n",
       " 'Godfather, The (1972)': 4.0,\n",
       " 'GoldenEye (1995)': 4.0,\n",
       " 'Good, The Bad and The Ugly, The (1966)': 5.0,\n",
       " 'GoodFellas (1990)': 4.0,\n",
       " 'Grease (1978)': 4.0,\n",
       " 'Great White Hype, The (1996)': 3.0,\n",
       " 'Groundhog Day (1993)': 5.0,\n",
       " 'Grumpier Old Men (1995)': 4.0,\n",
       " 'Hard Target (1993)': 4.0,\n",
       " 'Heat (1995)': 3.0,\n",
       " 'Heathers (1989)': 3.0,\n",
       " 'Home Alone (1990)': 4.0,\n",
       " 'Hoop Dreams (1994)': 4.0,\n",
       " 'Hot Shots! Part Deux (1993)': 4.0,\n",
       " 'House Arrest (1996)': 3.0,\n",
       " 'I Love Trouble (1994)': 3.0,\n",
       " 'I.Q. (1994)': 5.0,\n",
       " 'In the Army Now (1994)': 4.0,\n",
       " 'In the Line of Fire (1993)': 5.0,\n",
       " 'Independence Day (ID4) (1996)': 5.0,\n",
       " 'Indiana Jones and the Last Crusade (1989)': 5.0,\n",
       " 'Inkwell, The (1994)': 3.0,\n",
       " \"It's a Wonderful Life (1946)\": 5.0,\n",
       " 'Jack (1996)': 3.0,\n",
       " 'Jeffrey (1995)': 3.0,\n",
       " 'Jimmy Hollywood (1994)': 3.0,\n",
       " \"Joe's Apartment (1996)\": 2.0,\n",
       " 'Junior (1994)': 4.0,\n",
       " 'Jurassic Park (1993)': 5.0,\n",
       " 'Kingpin (1996)': 4.0,\n",
       " 'Lightning Jack (1994)': 3.0,\n",
       " 'Lost World: Jurassic Park, The (1997)': 3.0,\n",
       " 'Low Down Dirty Shame, A (1994)': 3.0,\n",
       " 'M*A*S*H (1970)': 5.0,\n",
       " 'Magnificent Seven, The (1954)': 5.0,\n",
       " 'Major Payne (1994)': 3.0,\n",
       " 'Man of the House (1995)': 3.0,\n",
       " 'Manchurian Candidate, The (1962)': 4.0,\n",
       " 'Mars Attacks! (1996)': 3.0,\n",
       " 'Mask, The (1994)': 3.0,\n",
       " 'Matilda (1996)': 3.0,\n",
       " 'Maverick (1994)': 3.0,\n",
       " 'Michael (1996)': 4.0,\n",
       " 'Mighty Aphrodite (1995)': 3.0,\n",
       " 'Milk Money (1994)': 4.0,\n",
       " 'Mission: Impossible (1996)': 4.0,\n",
       " \"Monty Python's Life of Brian (1979)\": 4.0,\n",
       " 'Mother (1996)': 2.0,\n",
       " 'Mrs. Doubtfire (1993)': 4.0,\n",
       " 'Multiplicity (1996)': 3.0,\n",
       " 'Muppet Treasure Island (1996)': 3.0,\n",
       " 'My Favorite Year (1982)': 3.0,\n",
       " 'Naked Gun 33 1/3: The Final Insult (1994)': 4.0,\n",
       " 'Net, The (1995)': 5.0,\n",
       " 'Nine Months (1995)': 4.0,\n",
       " 'Nutty Professor, The (1996)': 4.0,\n",
       " 'Platoon (1986)': 3.0,\n",
       " 'Prefontaine (1997)': 5.0,\n",
       " 'Private Benjamin (1980)': 4.0,\n",
       " 'Professional, The (1994)': 4.0,\n",
       " 'Program, The (1993)': 3.0,\n",
       " 'Pulp Fiction (1994)': 4.0,\n",
       " \"Pyromaniac's Love Story, A (1995)\": 3.0,\n",
       " 'Quiet Man, The (1952)': 5.0,\n",
       " 'Raging Bull (1980)': 3.0,\n",
       " 'Raiders of the Lost Ark (1981)': 5.0,\n",
       " 'Raising Arizona (1987)': 3.0,\n",
       " 'Reality Bites (1994)': 3.0,\n",
       " 'Renaissance Man (1994)': 5.0,\n",
       " 'Return of the Jedi (1983)': 5.0,\n",
       " 'Return of the Pink Panther, The (1974)': 4.0,\n",
       " 'River Wild, The (1994)': 4.0,\n",
       " 'Sabrina (1995)': 4.0,\n",
       " 'Santa Clause, The (1994)': 4.0,\n",
       " \"Schindler's List (1993)\": 4.0,\n",
       " 'Searching for Bobby Fischer (1993)': 4.0,\n",
       " 'Serial Mom (1994)': 1.0,\n",
       " 'Shadow, The (1994)': 3.0,\n",
       " 'Shawshank Redemption, The (1994)': 5.0,\n",
       " \"Singin' in the Rain (1952)\": 4.0,\n",
       " 'Sleeper (1973)': 4.0,\n",
       " 'Sleepers (1996)': 4.0,\n",
       " 'Sleepless in Seattle (1993)': 5.0,\n",
       " 'Sneakers (1992)': 4.0,\n",
       " 'So I Married an Axe Murderer (1993)': 2.0,\n",
       " 'Something to Talk About (1995)': 2.0,\n",
       " 'Son in Law (1993)': 4.0,\n",
       " 'Speechless (1994)': 4.0,\n",
       " 'Speed (1994)': 5.0,\n",
       " 'Speed 2: Cruise Control (1997)': 3.0,\n",
       " 'Star Trek III: The Search for Spock (1984)': 4.0,\n",
       " 'Star Trek IV: The Voyage Home (1986)': 5.0,\n",
       " 'Star Trek: First Contact (1996)': 4.0,\n",
       " 'Star Trek: The Motion Picture (1979)': 3.0,\n",
       " 'Star Trek: The Wrath of Khan (1982)': 5.0,\n",
       " 'Star Wars (1977)': 5.0,\n",
       " 'Stargate (1994)': 5.0,\n",
       " 'Sting, The (1973)': 5.0,\n",
       " 'Strange Days (1995)': 3.0,\n",
       " 'Strictly Ballroom (1992)': 3.0,\n",
       " 'Striptease (1996)': 2.0,\n",
       " 'Supercop (1992)': 3.0,\n",
       " 'Swimming with Sharks (1995)': 3.0,\n",
       " 'Switchblade Sisters (1975)': 2.0,\n",
       " 'Terminator 2: Judgment Day (1991)': 5.0,\n",
       " 'Terminator, The (1984)': 5.0,\n",
       " 'That Old Feeling (1997)': 4.0,\n",
       " 'That Thing You Do! (1996)': 4.0,\n",
       " 'This Is Spinal Tap (1984)': 5.0,\n",
       " 'To Die For (1995)': 3.0,\n",
       " 'To Kill a Mockingbird (1962)': 4.0,\n",
       " 'To Wong Foo, Thanks for Everything! Julie Newmar (1995)': 3.0,\n",
       " 'Tommy Boy (1995)': 4.0,\n",
       " 'Top Gun (1986)': 5.0,\n",
       " 'Treasure of the Sierra Madre, The (1948)': 4.0,\n",
       " 'True Lies (1994)': 5.0,\n",
       " 'Truth About Cats & Dogs, The (1996)': 4.0,\n",
       " 'Twelve Monkeys (1995)': 4.0,\n",
       " 'Twister (1996)': 4.0,\n",
       " \"Ulee's Gold (1997)\": 3.0,\n",
       " 'Under Siege (1992)': 4.0,\n",
       " 'Up in Smoke (1978)': 3.0,\n",
       " 'Vegas Vacation (1997)': 4.0,\n",
       " 'Victor/Victoria (1982)': 4.0,\n",
       " 'Waterworld (1995)': 4.0,\n",
       " \"Weekend at Bernie's (1989)\": 3.0,\n",
       " 'When Harry Met Sally... (1989)': 5.0,\n",
       " 'While You Were Sleeping (1995)': 5.0,\n",
       " 'Wizard of Oz, The (1939)': 5.0,\n",
       " 'Wyatt Earp (1994)': 3.0,\n",
       " 'Young Frankenstein (1974)': 5.0,\n",
       " 'Young Guns (1988)': 3.0,\n",
       " 'Young Guns II (1990)': 2.0}"
      ]
     },
     "execution_count": 72,
     "metadata": {},
     "output_type": "execute_result"
    }
   ],
   "source": [
    "prefs=loadMovieLens( )\n",
    "prefs['87']"
   ]
  },
  {
   "cell_type": "code",
   "execution_count": 74,
   "metadata": {
    "collapsed": false,
    "scrolled": true
   },
   "outputs": [
    {
     "data": {
      "text/plain": [
       "[(5.0, 'Wings of the Dove, The (1997)'),\n",
       " (5.0, 'Wedding Singer, The (1998)'),\n",
       " (5.0, 'Volcano (1997)'),\n",
       " (5.0, 'Scream 2 (1997)'),\n",
       " (5.0, 'Money Talks (1997)'),\n",
       " (5.0, 'Ma vie en rose (My Life in Pink) (1997)'),\n",
       " (5.0, 'Life Less Ordinary, A (1997)'),\n",
       " (5.0, 'Letter From Death Row, A (1998)'),\n",
       " (5.0, 'G.I. Jane (1997)'),\n",
       " (5.0, 'Fly Away Home (1996)'),\n",
       " (5.0, 'English Patient, The (1996)'),\n",
       " (5.0, 'Contact (1997)'),\n",
       " (5.0, 'Air Bud (1997)'),\n",
       " (4.500000000000001, 'Seven Years in Tibet (1997)'),\n",
       " (4.500000000000001, 'In & Out (1997)'),\n",
       " (4.0, 'Postman, The (1997)'),\n",
       " (4.0, 'Mr. Magoo (1997)'),\n",
       " (4.0, 'Liar Liar (1997)'),\n",
       " (4.0, 'Flubber (1997)'),\n",
       " (4.0, 'FairyTale: A True Story (1997)'),\n",
       " (4.0, \"Devil's Advocate, The (1997)\"),\n",
       " (4.0, 'Beautician and the Beast, The (1997)'),\n",
       " (4.0, 'Apt Pupil (1998)'),\n",
       " (3.0, 'Titanic (1997)'),\n",
       " (3.0, 'Soul Food (1997)'),\n",
       " (3.0, 'Saint, The (1997)'),\n",
       " (3.0, 'Rosewood (1997)'),\n",
       " (3.0, 'L.A. Confidential (1997)'),\n",
       " (3.0, 'Jungle2Jungle (1997)'),\n",
       " (3.0, 'Everyone Says I Love You (1996)')]"
      ]
     },
     "execution_count": 74,
     "metadata": {},
     "output_type": "execute_result"
    }
   ],
   "source": [
    "getRecommendations(prefs,'87',2,sim_pearson)[0:30]"
   ]
  },
  {
   "cell_type": "code",
   "execution_count": 75,
   "metadata": {
    "collapsed": false,
    "scrolled": true
   },
   "outputs": [
    {
     "name": "stdout",
     "output_type": "stream",
     "text": [
      "100 / 1664\n",
      "200 / 1664\n",
      "300 / 1664\n",
      "400 / 1664\n",
      "500 / 1664\n",
      "600 / 1664\n",
      "700 / 1664\n",
      "800 / 1664\n",
      "900 / 1664\n",
      "1000 / 1664\n",
      "1100 / 1664\n",
      "1200 / 1664\n",
      "1300 / 1664\n",
      "1400 / 1664\n",
      "1500 / 1664\n",
      "1600 / 1664\n"
     ]
    }
   ],
   "source": [
    "itemsim=calculateSimilarItems(prefs,2,sim_pearson)"
   ]
  },
  {
   "cell_type": "code",
   "execution_count": 48,
   "metadata": {
    "collapsed": false
   },
   "outputs": [
    {
     "data": {
      "text/plain": [
       "[(5.0, \"William Shakespeare's Romeo and Juliet (1996)\"),\n",
       " (5.0, 'Tough and Deadly (1995)'),\n",
       " (5.0, 'Thousand Acres, A (1997)'),\n",
       " (5.0, 'Tetsuo II: Body Hammer (1992)'),\n",
       " (5.0, 'Sudden Manhattan (1996)'),\n",
       " (5.0, 'Stranger, The (1994)'),\n",
       " (5.0, 'Stonewall (1995)'),\n",
       " (5.0, 'Sleepover (1995)'),\n",
       " (5.0, 'Shiloh (1997)'),\n",
       " (5.0, 'Saint of Fort Washington, The (1993)'),\n",
       " (5.0, 'Promesse, La (1996)'),\n",
       " (4.666666666666667, 'Substance of Fire, The (1996)'),\n",
       " (4.5, 'Vie est belle, La (Life is Rosey) (1987)'),\n",
       " (4.5, 'Underneath, The (1995)'),\n",
       " (4.5, 'Turbo: A Power Rangers Movie (1997)'),\n",
       " (4.5, 'True Crime (1995)'),\n",
       " (4.5, 'Traveller (1997)'),\n",
       " (4.5, 'They Made Me a Criminal (1939)'),\n",
       " (4.5, 'Talking About Sex (1994)'),\n",
       " (4.5, 'Sweet Nothing (1995)'),\n",
       " (4.5, \"Someone Else's America (1995)\"),\n",
       " (4.5, 'Search for One-eye Jimmy, The (1996)'),\n",
       " (4.4, 'Two Friends (1986) '),\n",
       " (4.4, 'Touch (1997)'),\n",
       " (4.4, 'Telling Lies in America (1997)'),\n",
       " (4.4, 'Spanish Prisoner, The (1997)'),\n",
       " (4.283018867924528, 'Wings of Courage (1995)'),\n",
       " (4.25, 'Wife, The (1995)'),\n",
       " (4.25, 'Unhook the Stars (1996)'),\n",
       " (4.166666666666667, 'Witness (1985)')]"
      ]
     },
     "execution_count": 48,
     "metadata": {},
     "output_type": "execute_result"
    }
   ],
   "source": [
    "getRecommendedItems(prefs,itemsim,'87')[0:30]"
   ]
  },
  {
   "cell_type": "markdown",
   "metadata": {},
   "source": [
    "# Tasks\n",
    "## 1. Comparison of user-based and item-based collaborative filtering (5 out 10)\n",
    "\n",
    "You need to implement MAE and RMSE quality measures to compare user-based and item-based approaches on MovieLens dataset (http://grouplens.org/datasets/movielens/).\n",
    "\n",
    "* The training datasets have file extension '.base'. The training/test datasets' pairs are given as follows u1.base and u1.test, ..., u5.base and u5.test Each pair is a partition of the original data into  80%/20%  for training and test datasets respectively.\n",
    "* For each method (user-based and item-based with vairous similarity measures) plot grpahs of MAE and RMSE agaist the number of nearest neighbours.\n",
    "* If the results' quality is too poor (MAE>2.0) try variants 2.6 and 2.7 from http://files.grouplens.org/papers/FnT%20CF%20Recsys%20Survey.pdf\n",
    "\n",
    "## 2. SVD-based (Singular Value Decomposition) recommendation (5 out 10)\n",
    "\n",
    "* Select a proper SVD-based model's implementation  based on gradient descent: http://www.recsyswiki.com/wiki/Category:Software\n",
    " * E.g., Oscar Celma's implementation: http://ocelma.net/software/python-recsys/build/html/#\n",
    " * FunkSVD  http://lenskit.org/documentation/algorithms/svd/ (see also the original blog for details http://sifter.org/~simon/journal/20061211.html)\n",
    " * Makar Stetsenko implementation: https://github.com/Makazone/2ndYear-TermProject/\n",
    "\n",
    "* Train the model and compare its quality by MAE and RMSE for the same split from Task 1."
   ]
  },
  {
   "cell_type": "markdown",
   "metadata": {
    "collapsed": true
   },
   "source": [
    "## Task 1"
   ]
  },
  {
   "cell_type": "code",
   "execution_count": 9,
   "metadata": {
    "collapsed": true
   },
   "outputs": [],
   "source": [
    "import sys\n",
    "import numpy as np\n",
    "import seaborn as sb\n",
    "import matplotlib.pyplot as plt\n",
    "% matplotlib inline"
   ]
  },
  {
   "cell_type": "code",
   "execution_count": 10,
   "metadata": {
    "collapsed": false
   },
   "outputs": [],
   "source": [
    "def loadMovieLens1(i, sample='base'):\n",
    "# Get movie titles\n",
    "    movies={}\n",
    "    for line in open('movielens/u.item'):\n",
    "        (id,title)=line.split('|')[0:2]\n",
    "        movies[id]=title\n",
    "# Load data\n",
    "    prefs={}\n",
    "    for line in open('movielens/u'+str(i)+'.'+sample):\n",
    "        (user,movieid,rating,ts)=line.split('\\t')\n",
    "        prefs.setdefault(user,{})\n",
    "        prefs[user][movies[movieid]]=float(rating)\n",
    "    return prefs"
   ]
  },
  {
   "cell_type": "markdown",
   "metadata": {},
   "source": [
    "The implementation of the expirement over different numbers of the neighbours that are used for the user-based method with distance similarity is given below."
   ]
  },
  {
   "cell_type": "code",
   "execution_count": 11,
   "metadata": {
    "collapsed": true
   },
   "outputs": [],
   "source": [
    "# set the range of the neighbours number\n",
    "rangeN = range(10,700,200)"
   ]
  },
  {
   "cell_type": "code",
   "execution_count": 13,
   "metadata": {
    "collapsed": false
   },
   "outputs": [
    {
     "name": "stdout",
     "output_type": "stream",
     "text": [
      "[====================] 100%"
     ]
    }
   ],
   "source": [
    "# compute metrics for user-based method with distance similarity\n",
    "mae_user_distance = [] # mae for different number of neighbours\n",
    "rmse_user_distance = [] # rmse for different number of neighbours\n",
    "counter = 0 # progress bar counter\n",
    "for n in rangeN: # for different number of neighbours\n",
    "    mae_user_local = [] # mae for diffeerent splits\n",
    "    rmse_user_local = [] # rmse for different splits\n",
    "    for i in range(1,6): # for every split\n",
    "        # printing progress bar\n",
    "        sys.stdout.write('\\r')\n",
    "        sys.stdout.write(\"[%-20s] %d%%\" % ('='*counter, 5*counter))\n",
    "        sys.stdout.flush()\n",
    "        # loading train and test data\n",
    "        train = loadMovieLens1(i, sample='base')\n",
    "        test = loadMovieLens1(i, sample='test')\n",
    "        local_mae = [] # mae for every user\n",
    "        local_rmse = [] # rmse for every user\n",
    "        for user in test: # for every user in test data\n",
    "            test_scores = test[user] # given test scores\n",
    "            # computing recommendations via train data\n",
    "            recommendations = {k:v for (v,k) in getRecommendations(train,user,n,sim_distance)}\n",
    "            # define movies that are both in test and in train sets\n",
    "            common_movies = set(recommendations.keys()).intersection(set(test_scores.keys()))\n",
    "            if len(common_movies)==0: # if there is no such movies then continue\n",
    "                continue\n",
    "            # arranging scores for common movies\n",
    "            scores_train = [recommendations[movie] for movie in common_movies]\n",
    "            scores_test = [test_scores[movie] for movie in common_movies]\n",
    "            scores_train = np.array(scores_train)\n",
    "            scores_test = np.array(scores_test)\n",
    "            # computing local metrics\n",
    "            local_mae.append(sum(abs(scores_train-scores_test))/len(common_movies))\n",
    "            local_rmse.append(sqrt(sum((scores_train-scores_test)**2)/len(common_movies)))\n",
    "        counter = counter + 1 # updating counter\n",
    "        # computing metrics for the split\n",
    "        mae_user_local.append(np.array(local_mae).mean())\n",
    "        rmse_user_local.append(np.array(local_rmse).mean())\n",
    "    # printing progress bar\n",
    "    sys.stdout.write('\\r')\n",
    "    sys.stdout.write(\"[%-20s] %d%%\" % ('='*counter, 5*counter))\n",
    "    sys.stdout.flush()\n",
    "    # averaging split's metrics\n",
    "    mae_user_distance.append(np.array(mae_user_local).mean())\n",
    "    rmse_user_distance.append(np.array(rmse_user_local).mean())"
   ]
  },
  {
   "cell_type": "markdown",
   "metadata": {},
   "source": [
    "The implementation of the expirement over different numbers of the neighbours that are used for the item-based method with distance similarity is given below."
   ]
  },
  {
   "cell_type": "code",
   "execution_count": 14,
   "metadata": {
    "collapsed": false
   },
   "outputs": [
    {
     "name": "stdout",
     "output_type": "stream",
     "text": [
      "[====================] 100%"
     ]
    }
   ],
   "source": [
    "# compute metrics for item-based method with distance similarity\n",
    "mae_item_distance = [] # mae for different number of neighbours\n",
    "rmse_item_distance = [] # rmse for different number of neighbours\n",
    "counter = 0 # progress bar counter\n",
    "for n in rangeN: # for different number of neighbours\n",
    "    mae_item_local = [] # mae for diffeerent splits\n",
    "    rmse_item_local = [] # rmse for different splits\n",
    "    for i in range(1,6): # for every split\n",
    "        # printing progress bar\n",
    "        sys.stdout.write('\\r')\n",
    "        sys.stdout.write(\"[%-20s] %d%%\" % ('='*counter, 5*counter))\n",
    "        sys.stdout.flush()\n",
    "        # loading train and test data\n",
    "        train = loadMovieLens1(i, sample='base')\n",
    "        test = loadMovieLens1(i, sample='test')\n",
    "        local_mae = [] # mae for every user\n",
    "        local_rmse = [] # rmse for every user\n",
    "        # calculate similarity of the items\n",
    "        itemsim = calculateSimilarItems(train,n,sim_distance)\n",
    "        for user in test: # for every user in test data\n",
    "            test_scores = test[user] # given test scores\n",
    "            # computing recommendations via train data\n",
    "            recommendations = {k:v for (v,k) in getRecommendedItems(train,itemsim,user)}\n",
    "            # define movies that are both in test and in train sets\n",
    "            common_movies = set(recommendations.keys()).intersection(set(test_scores.keys()))\n",
    "            if len(common_movies)==0: # if there is no such movies then continue\n",
    "                continue\n",
    "            # arranging scores for common movies\n",
    "            scores_train = [recommendations[movie] for movie in common_movies]\n",
    "            scores_test = [test_scores[movie] for movie in common_movies]\n",
    "            scores_train = np.array(scores_train)\n",
    "            scores_test = np.array(scores_test)\n",
    "            # computing local metrics\n",
    "            local_mae.append(sum(abs(scores_train-scores_test))/len(common_movies))\n",
    "            local_rmse.append(sqrt(sum((scores_train-scores_test)**2)/len(common_movies)))\n",
    "        counter = counter + 1 # updating counter\n",
    "        # computing metrics for the split\n",
    "        mae_item_local.append(np.array(local_mae).mean())\n",
    "        rmse_item_local.append(np.array(local_rmse).mean())\n",
    "    # printing progress bar\n",
    "    sys.stdout.write('\\r')\n",
    "    sys.stdout.write(\"[%-20s] %d%%\" % ('='*counter, 5*counter))\n",
    "    sys.stdout.flush()\n",
    "    # averaging split's metrics\n",
    "    mae_item_distance.append(np.array(mae_item_local).mean())\n",
    "    rmse_item_distance.append(np.array(rmse_item_local).mean())"
   ]
  },
  {
   "cell_type": "markdown",
   "metadata": {},
   "source": [
    "The implementation of the expirement over different numbers of the neighbours that are used for the user-based method with pearson similarity is given below."
   ]
  },
  {
   "cell_type": "code",
   "execution_count": 15,
   "metadata": {
    "collapsed": false
   },
   "outputs": [
    {
     "name": "stdout",
     "output_type": "stream",
     "text": [
      "[====================] 100%"
     ]
    }
   ],
   "source": [
    "# compute metrics for user-based method with pearson similarity\n",
    "mae_user_pearson = [] # mae for different number of neighbours\n",
    "rmse_user_pearson = [] # rmse for different number of neighbours\n",
    "counter = 0 # progress bar counter\n",
    "for n in rangeN: # for different number of neighbours\n",
    "    mae_user_local = [] # mae for diffeerent splits\n",
    "    rmse_user_local = [] # rmse for different splits\n",
    "    for i in range(1,6): # for every split\n",
    "        # printing progress bar\n",
    "        sys.stdout.write('\\r')\n",
    "        sys.stdout.write(\"[%-20s] %d%%\" % ('='*counter, 5*counter))\n",
    "        sys.stdout.flush()\n",
    "        # loading train and test data\n",
    "        train = loadMovieLens1(i, sample='base')\n",
    "        test = loadMovieLens1(i, sample='test')\n",
    "        local_mae = [] # mae for every user\n",
    "        local_rmse = [] # rmse for every user\n",
    "        for user in test: # for every user in test data\n",
    "            test_scores = test[user] # given test scores\n",
    "            # computing recommendations via train data\n",
    "            recommendations = {k:v for (v,k) in getRecommendations(train,user,n,sim_pearson)}\n",
    "            # define movies that are both in test and in train sets\n",
    "            common_movies = set(recommendations.keys()).intersection(set(test_scores.keys()))\n",
    "            if len(common_movies)==0: # if there is no such movies then continue\n",
    "                continue\n",
    "            # arranging scores for common movies\n",
    "            scores_train = [recommendations[movie] for movie in common_movies]\n",
    "            scores_test = [test_scores[movie] for movie in common_movies]\n",
    "            scores_train = np.array(scores_train)\n",
    "            scores_test = np.array(scores_test)\n",
    "            # computing local metrics\n",
    "            local_mae.append(sum(abs(scores_train-scores_test))/len(common_movies))\n",
    "            local_rmse.append(sqrt(sum((scores_train-scores_test)**2)/len(common_movies)))\n",
    "        counter = counter + 1 # updating counter\n",
    "        # computing metrics for the split\n",
    "        mae_user_local.append(np.array(local_mae).mean())\n",
    "        rmse_user_local.append(np.array(local_rmse).mean())\n",
    "    # printing progress bar\n",
    "    sys.stdout.write('\\r')\n",
    "    sys.stdout.write(\"[%-20s] %d%%\" % ('='*counter, 5*counter))\n",
    "    sys.stdout.flush()\n",
    "    # averaging split's metrics\n",
    "    mae_user_pearson.append(np.array(mae_user_local).mean())\n",
    "    rmse_user_pearson.append(np.array(rmse_user_local).mean())"
   ]
  },
  {
   "cell_type": "markdown",
   "metadata": {},
   "source": [
    "The implementation of the expirement over different numbers of the neighbours that are used for the item-based method with pearson similarity is given below."
   ]
  },
  {
   "cell_type": "code",
   "execution_count": 16,
   "metadata": {
    "collapsed": false
   },
   "outputs": [
    {
     "name": "stdout",
     "output_type": "stream",
     "text": [
      "[====================] 100%"
     ]
    }
   ],
   "source": [
    "# compute metrics for item-based method with pearson similarity\n",
    "mae_item_pearson = [] # mae for different number of neighbours\n",
    "rmse_item_pearson = [] # rmse for different number of neighbours\n",
    "counter = 0 # progress bar counter\n",
    "for n in rangeN: # for different number of neighbours\n",
    "    mae_item_local = [] # mae for diffeerent splits\n",
    "    rmse_item_local = [] # rmse for different splits\n",
    "    for i in range(1,6): # for every split\n",
    "        # printing progress bar\n",
    "        sys.stdout.write('\\r')\n",
    "        sys.stdout.write(\"[%-20s] %d%%\" % ('='*counter, 5*counter))\n",
    "        sys.stdout.flush()\n",
    "        # loading train and test data\n",
    "        train = loadMovieLens1(i, sample='base')\n",
    "        test = loadMovieLens1(i, sample='test')\n",
    "        local_mae = [] # mae for every user\n",
    "        local_rmse = [] # rmse for every user\n",
    "        # calculate similarity of the items\n",
    "        itemsim = calculateSimilarItems(train,n,sim_pearson)\n",
    "        for user in test: # for every user in test data\n",
    "            test_scores = test[user] # given test scores\n",
    "            # computing recommendations via train data\n",
    "            recommendations = {k:v for (v,k) in getRecommendedItems(train,itemsim,user)}\n",
    "            # define movies that are both in test and in train sets\n",
    "            common_movies = set(recommendations.keys()).intersection(set(test_scores.keys()))\n",
    "            if len(common_movies)==0: # if there is no such movies then continue\n",
    "                continue\n",
    "            # arranging scores for common movies\n",
    "            scores_train = [recommendations[movie] for movie in common_movies]\n",
    "            scores_test = [test_scores[movie] for movie in common_movies]\n",
    "            scores_train = np.array(scores_train)\n",
    "            scores_test = np.array(scores_test)\n",
    "            # computing local metrics\n",
    "            local_mae.append(sum(abs(scores_train-scores_test))/len(common_movies))\n",
    "            local_rmse.append(sqrt(sum((scores_train-scores_test)**2)/len(common_movies)))\n",
    "        counter = counter + 1 # updating counter\n",
    "        # computing metrics for the split\n",
    "        mae_item_local.append(np.array(local_mae).mean())\n",
    "        rmse_item_local.append(np.array(local_rmse).mean())\n",
    "    # printing progress bar\n",
    "    sys.stdout.write('\\r')\n",
    "    sys.stdout.write(\"[%-20s] %d%%\" % ('='*counter, 5*counter))\n",
    "    sys.stdout.flush()\n",
    "    # averaging split's metrics\n",
    "    mae_item_pearson.append(np.array(mae_item_local).mean())\n",
    "    rmse_item_pearson.append(np.array(rmse_item_local).mean())"
   ]
  },
  {
   "cell_type": "markdown",
   "metadata": {},
   "source": [
    "Plots with the results of the expirements are given below."
   ]
  },
  {
   "cell_type": "code",
   "execution_count": 17,
   "metadata": {
    "collapsed": false
   },
   "outputs": [
    {
     "data": {
      "text/plain": [
       "<matplotlib.text.Text at 0x16e44850>"
      ]
     },
     "execution_count": 17,
     "metadata": {},
     "output_type": "execute_result"
    },
    {
     "data": {
      "image/png": "[encoded data removed]",
      "text/plain": [
       "<matplotlib.figure.Figure at 0x118c4650>"
      ]
     },
     "metadata": {},
     "output_type": "display_data"
    }
   ],
   "source": [
    "# plotting the results\n",
    "sb.set()\n",
    "pal = sb.color_palette(\"Set2\", 2)\n",
    "plt.figure(figsize=(14,6))\n",
    "plt.subplot(1,2,1)\n",
    "plt.plot(rangeN, mae_user_distance, label='user_distance', linewidth=3)\n",
    "plt.plot(rangeN, mae_item_distance, label='item_distance', linewidth=3)\n",
    "plt.plot(rangeN, mae_user_pearson, label='user_pearson', linewidth=3)\n",
    "plt.plot(rangeN, mae_item_pearson, label='item_pearson', linewidth=3)\n",
    "plt.legend(loc='best', fontsize=14)\n",
    "plt.xticks(fontsize=14)\n",
    "plt.yticks(fontsize=14)\n",
    "plt.ylabel('mae', fontsize=20)\n",
    "plt.xlabel('n', fontsize=20)\n",
    "plt.subplot(1,2,2)\n",
    "plt.plot(rangeN, rmse_user_distance, label='user_distance', linewidth=3)\n",
    "plt.plot(rangeN, rmse_item_distance, label='item_distance', linewidth=3)\n",
    "plt.plot(rangeN, rmse_user_pearson, label='user_pearson', linewidth=3)\n",
    "plt.plot(rangeN, rmse_item_pearson, label='item_pearson', linewidth=3)\n",
    "plt.legend(loc='best', fontsize=14)\n",
    "plt.xticks(fontsize=14)\n",
    "plt.yticks(fontsize=14)\n",
    "plt.ylabel('rmse', fontsize=20)\n",
    "plt.xlabel('n', fontsize=20)"
   ]
  },
  {
   "cell_type": "markdown",
   "metadata": {},
   "source": [
    "As shown on the plots mae and rmse of all the methods are decreasing with increasing of the number of neighbors. The exception is only the item-based method with distance similarity. Also, it should be noticed that the user-based methods works better here than the item-based."
   ]
  },
  {
   "cell_type": "markdown",
   "metadata": {
    "collapsed": true
   },
   "source": [
    "## Task 2"
   ]
  },
  {
   "cell_type": "markdown",
   "metadata": {},
   "source": [
    "In this task I use SVD method which is suggested by Antoine Vastel (http://antoinevastel.github.io/machine%20learning/python/2016/02/14/svd-recommender-system.html). I have modify the code for easily computing mae and rmse for this task."
   ]
  },
  {
   "cell_type": "code",
   "execution_count": 1,
   "metadata": {
    "collapsed": true
   },
   "outputs": [],
   "source": [
    "import sys\n",
    "import csv\n",
    "import numpy as np\n",
    "import math as mt\n",
    "from scipy.sparse import *\n",
    "from scipy import *\n",
    "from scipy.sparse import csr_matrix\n",
    "from sparsesvd import sparsesvd\n",
    "from scipy.sparse.linalg import *\n",
    "import seaborn as sb\n",
    "import matplotlib.pyplot as plt\n",
    "% matplotlib inline"
   ]
  },
  {
   "cell_type": "markdown",
   "metadata": {},
   "source": [
    "We read our dataset and store it in sparse matrix using csr format. To do so we use the scipy library. It enables us to store only the non zero elements."
   ]
  },
  {
   "cell_type": "code",
   "execution_count": 8,
   "metadata": {
    "collapsed": false
   },
   "outputs": [],
   "source": [
    "# Read the dataset\n",
    "def readUrm(i):\n",
    "    urm = np.zeros(shape=(1000,1700), dtype=np.float32)\n",
    "    with open('movielens/u'+str(i)+'.base') as trainFile:\n",
    "        urmReader = csv.reader(trainFile, delimiter='\\t')\n",
    "        for row in urmReader:\n",
    "            urm[int(row[0]), int(row[1])] = float(row[2])\n",
    "    return csc_matrix(urm, dtype=np.float32)"
   ]
  },
  {
   "cell_type": "markdown",
   "metadata": {},
   "source": [
    "First we are going to create a function readUsersTest in order to get the ids of the users for which we want to make a prediction."
   ]
  },
  {
   "cell_type": "code",
   "execution_count": 3,
   "metadata": {
    "collapsed": true
   },
   "outputs": [],
   "source": [
    "# Retrieve the test users\n",
    "def readUsersTest(i):\n",
    "    uTest = dict()\n",
    "    with open('movielens/u'+str(i)+'.test') as testFile:\n",
    "        testReader = csv.reader(testFile, delimiter='\\t')\n",
    "        for row in testReader:\n",
    "            uTest.setdefault(int(row[0]), {})\n",
    "    return uTest"
   ]
  },
  {
   "cell_type": "code",
   "execution_count": 4,
   "metadata": {
    "collapsed": false
   },
   "outputs": [],
   "source": [
    "# Read full test data for futher comparing\n",
    "def readTest(i):\n",
    "    Test = dict()\n",
    "    with open('movielens/u'+str(i)+'.test') as testFile:\n",
    "        testReader = csv.reader(testFile, delimiter='\\t')\n",
    "        for row in testReader:\n",
    "            Test.setdefault(int(row[0]), {})\n",
    "            Test[int(row[0])][int(row[1])] = int(row[2])\n",
    "    return Test"
   ]
  },
  {
   "cell_type": "markdown",
   "metadata": {},
   "source": [
    "In order to compute the singular value decomposition of our user rating matrix we need to create a function with two parameters : the user rating matrix and the rank of our SVD."
   ]
  },
  {
   "cell_type": "code",
   "execution_count": 5,
   "metadata": {
    "collapsed": false
   },
   "outputs": [],
   "source": [
    "# Compute the SVD of our user rating matrix\n",
    "def computeSVD(urm, K):\n",
    "    U, s, Vt = sparsesvd(urm, K)\n",
    "    dim = (len(s), len(s))\n",
    "    S = np.zeros(dim, dtype=np.float32)\n",
    "    for i in range(0, len(s)):\n",
    "        S[i,i] = mt.sqrt(s[i])\n",
    "    U = csr_matrix(np.transpose(U), dtype=np.float32)\n",
    "    S = csr_matrix(S, dtype=np.float32)\n",
    "    Vt = csr_matrix(Vt, dtype=np.float32)\n",
    "    return U, S, Vt"
   ]
  },
  {
   "cell_type": "markdown",
   "metadata": {},
   "source": [
    "The final step is to predict recommendations for our test users. To do so we will use the matrices computed in the previous step."
   ]
  },
  {
   "cell_type": "code",
   "execution_count": 9,
   "metadata": {
    "collapsed": false
   },
   "outputs": [],
   "source": [
    "# Predict the movies scores for our test users\n",
    "def computeEstimatedRatings(U, S, Vt, uTest):\n",
    "    rightTerm = S*Vt \n",
    "    estimatedRatings = np.zeros(shape=(1000, 1700), dtype=np.float16)\n",
    "    for userTest in uTest:\n",
    "        prod = U[userTest, :]*rightTerm\n",
    "        estimatedRatings[userTest, :] = prod.todense()\n",
    "        recom = (-estimatedRatings[userTest, :]).argsort()\n",
    "        # assign scores\n",
    "        scores = list()\n",
    "        for i in range(0,340):\n",
    "            scores.append(5)\n",
    "        for i in range(340,680):\n",
    "            scores.append(4)\n",
    "        for i in range(680,1020):\n",
    "            scores.append(3)\n",
    "        for i in range(1020,1360):\n",
    "            scores.append(2)\n",
    "        for i in range(1360,1700):\n",
    "            scores.append(1)\n",
    "        count = 0\n",
    "        for r in recom:\n",
    "            uTest[userTest][r] = scores[count]\n",
    "            count = count + 1\n",
    "    return uTest"
   ]
  },
  {
   "cell_type": "markdown",
   "metadata": {},
   "source": [
    "The implementation of the experiment for different K values (the number of requested factors (an integer)) is given below."
   ]
  },
  {
   "cell_type": "code",
   "execution_count": 10,
   "metadata": {
    "collapsed": false,
    "scrolled": false
   },
   "outputs": [
    {
     "name": "stdout",
     "output_type": "stream",
     "text": [
      "[====================] 100%"
     ]
    }
   ],
   "source": [
    "rangeK = range(1,1000,300)\n",
    "mae_svd = []\n",
    "rmse_svd = []\n",
    "counter = 0 # progress bar counter\n",
    "for K in rangeK: # for different K\n",
    "    mae = [] # mae for diffeerent splits\n",
    "    rmse = [] # rmse for different splits\n",
    "    for i in range(1,6): # for every split\n",
    "        # printing progress bar\n",
    "        sys.stdout.write('\\r')\n",
    "        sys.stdout.write(\"[%-20s] %d%%\" % ('='*counter, 5*counter))\n",
    "        sys.stdout.flush()\n",
    "        local_mae = [] # mae for every user\n",
    "        local_rmse = [] # rmse for every user\n",
    "        urm = readUrm(i)\n",
    "        U, S, Vt = computeSVD(urm, K)\n",
    "        uTest = readUsersTest(i)\n",
    "        Test = readTest(i)\n",
    "        uTest = computeEstimatedRatings(U, S, Vt, uTest)\n",
    "        for user in Test:\n",
    "            test_scores = Test[user]\n",
    "            train_scores = uTest[user]\n",
    "            common_movies = set(train_scores.keys()).intersection(set(test_scores.keys()))\n",
    "            if len(common_movies)==0: # if there is no such movies then continue\n",
    "                continue\n",
    "            # arranging scores for common movies\n",
    "            scores_train = [train_scores[movie] for movie in common_movies]\n",
    "            scores_test = [test_scores[movie] for movie in common_movies]\n",
    "            scores_train = np.array(scores_train)\n",
    "            scores_test = np.array(scores_test)\n",
    "            # computing local metrics\n",
    "            local_mae.append(sum(abs(scores_train-scores_test))/len(common_movies))\n",
    "            local_rmse.append(sqrt(sum((scores_train-scores_test)**2)/len(common_movies)))\n",
    "        counter = counter + 1 # updating counter\n",
    "        # computing metrics for the split\n",
    "        mae.append(np.array(local_mae).mean())\n",
    "        rmse.append(np.array(local_rmse).mean())\n",
    "    # printing progress bar\n",
    "    sys.stdout.write('\\r')\n",
    "    sys.stdout.write(\"[%-20s] %d%%\" % ('='*counter, 5*counter))\n",
    "    sys.stdout.flush()\n",
    "    # averaging split's metrics\n",
    "    mae_svd.append(np.array(mae).mean())\n",
    "    rmse_svd.append(np.array(rmse).mean())"
   ]
  },
  {
   "cell_type": "markdown",
   "metadata": {},
   "source": [
    "Plots with the results of the expirements are given below."
   ]
  },
  {
   "cell_type": "code",
   "execution_count": 11,
   "metadata": {
    "collapsed": false
   },
   "outputs": [
    {
     "data": {
      "text/plain": [
       "<matplotlib.text.Text at 0x1821f590>"
      ]
     },
     "execution_count": 11,
     "metadata": {},
     "output_type": "execute_result"
    },
    {
     "data": {
      "image/png": "[encoded data removed]",
      "text/plain": [
       "<matplotlib.figure.Figure at 0x119b1c90>"
      ]
     },
     "metadata": {},
     "output_type": "display_data"
    }
   ],
   "source": [
    "# plotting the results\n",
    "sb.set()\n",
    "pal = sb.color_palette(\"Set2\", 2)\n",
    "plt.figure(figsize=(14,6))\n",
    "plt.subplot(1,2,1)\n",
    "plt.plot(rangeK, mae_svd, linewidth=3)\n",
    "plt.xticks(fontsize=14)\n",
    "plt.yticks(fontsize=14)\n",
    "plt.ylabel('mae', fontsize=20)\n",
    "plt.xlabel('K', fontsize=20)\n",
    "plt.subplot(1,2,2)\n",
    "plt.plot(rangeK, rmse_svd, linewidth=3)\n",
    "plt.xticks(fontsize=14)\n",
    "plt.yticks(fontsize=14)\n",
    "plt.ylabel('rmse', fontsize=20)\n",
    "plt.xlabel('K', fontsize=20)"
   ]
  },
  {
   "cell_type": "markdown",
   "metadata": {},
   "source": [
    "As it shown on the plots the mae and rmse are increasing with increasing of the value K. In general, this implementation of the SVD recommendation method here works worse than the collaborative filtering above."
   ]
  }
 ],
 "metadata": {
  "kernelspec": {
   "display_name": "Python 2",
   "language": "python",
   "name": "python2"
  },
  "language_info": {
   "codemirror_mode": {
    "name": "ipython",
    "version": 2
   },
   "file_extension": ".py",
   "mimetype": "text/x-python",
   "name": "python",
   "nbconvert_exporter": "python",
   "pygments_lexer": "ipython2",
   "version": "2.7.11"
  },
  "name": "lesson11_recsys.ipynb"
 },
 "nbformat": 4,
 "nbformat_minor": 0
}
