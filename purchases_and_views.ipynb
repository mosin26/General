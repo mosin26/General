{
 "cells": [
  {
   "cell_type": "markdown",
   "metadata": {},
   "source": [
    "# Purchases and Views"
   ]
  },
  {
   "cell_type": "code",
   "execution_count": 197,
   "metadata": {
    "collapsed": true
   },
   "outputs": [],
   "source": [
    "import datetime\n",
    "import pandas as pd\n",
    "import numpy as np\n",
    "from collections import defaultdict\n",
    "from tqdm import tqdm_notebook\n",
    "import matplotlib.pyplot as plt\n",
    "import seaborn as sb"
   ]
  },
  {
   "cell_type": "markdown",
   "metadata": {},
   "source": [
    "## Reading the data"
   ]
  },
  {
   "cell_type": "markdown",
   "metadata": {},
   "source": [
    "Read the data.."
   ]
  },
  {
   "cell_type": "code",
   "execution_count": 2,
   "metadata": {
    "collapsed": false
   },
   "outputs": [],
   "source": [
    "purchase = pd.read_csv('Purchase_Task.csv')\n",
    "views = pd.read_csv('Views_Task.csv')"
   ]
  },
  {
   "cell_type": "code",
   "execution_count": 75,
   "metadata": {
    "collapsed": false,
    "scrolled": false
   },
   "outputs": [
    {
     "data": {
      "text/html": [
       "<div>\n",
       "<style>\n",
       "    .dataframe thead tr:only-child th {\n",
       "        text-align: right;\n",
       "    }\n",
       "\n",
       "    .dataframe thead th {\n",
       "        text-align: left;\n",
       "    }\n",
       "\n",
       "    .dataframe tbody tr th {\n",
       "        vertical-align: top;\n",
       "    }\n",
       "</style>\n",
       "<table border=\"1\" class=\"dataframe\">\n",
       "  <thead>\n",
       "    <tr style=\"text-align: right;\">\n",
       "      <th></th>\n",
       "      <th>SESSION_ID</th>\n",
       "      <th>COOKIE_ID</th>\n",
       "      <th>TIMESTAMP</th>\n",
       "      <th>PRODUCT_ID</th>\n",
       "      <th>BASE_PRICE</th>\n",
       "    </tr>\n",
       "  </thead>\n",
       "  <tbody>\n",
       "    <tr>\n",
       "      <th>0</th>\n",
       "      <td>3520894568428972544</td>\n",
       "      <td>50191437021527314046259</td>\n",
       "      <td>2015-11-01 05:22:06</td>\n",
       "      <td>537739.0</td>\n",
       "      <td>256.0</td>\n",
       "    </tr>\n",
       "    <tr>\n",
       "      <th>1</th>\n",
       "      <td>6746036549903427584</td>\n",
       "      <td>50161372185583302757617</td>\n",
       "      <td>2015-11-01 05:23:29</td>\n",
       "      <td>626315.0</td>\n",
       "      <td>69.0</td>\n",
       "    </tr>\n",
       "    <tr>\n",
       "      <th>2</th>\n",
       "      <td>6746036549903427584</td>\n",
       "      <td>50161372185583302757617</td>\n",
       "      <td>2015-11-01 05:23:29</td>\n",
       "      <td>626315.0</td>\n",
       "      <td>69.0</td>\n",
       "    </tr>\n",
       "    <tr>\n",
       "      <th>3</th>\n",
       "      <td>3232727606581901824</td>\n",
       "      <td>50031441922087318075606</td>\n",
       "      <td>2015-11-01 05:24:15</td>\n",
       "      <td>506594.0</td>\n",
       "      <td>264.0</td>\n",
       "    </tr>\n",
       "    <tr>\n",
       "      <th>4</th>\n",
       "      <td>4630562004574258176</td>\n",
       "      <td>50181423850284296776983</td>\n",
       "      <td>2015-11-01 05:26:53</td>\n",
       "      <td>508138.0</td>\n",
       "      <td>19.0</td>\n",
       "    </tr>\n",
       "  </tbody>\n",
       "</table>\n",
       "</div>"
      ],
      "text/plain": [
       "            SESSION_ID                COOKIE_ID            TIMESTAMP  \\\n",
       "0  3520894568428972544  50191437021527314046259  2015-11-01 05:22:06   \n",
       "1  6746036549903427584  50161372185583302757617  2015-11-01 05:23:29   \n",
       "2  6746036549903427584  50161372185583302757617  2015-11-01 05:23:29   \n",
       "3  3232727606581901824  50031441922087318075606  2015-11-01 05:24:15   \n",
       "4  4630562004574258176  50181423850284296776983  2015-11-01 05:26:53   \n",
       "\n",
       "   PRODUCT_ID  BASE_PRICE  \n",
       "0    537739.0       256.0  \n",
       "1    626315.0        69.0  \n",
       "2    626315.0        69.0  \n",
       "3    506594.0       264.0  \n",
       "4    508138.0        19.0  "
      ]
     },
     "execution_count": 75,
     "metadata": {},
     "output_type": "execute_result"
    }
   ],
   "source": [
    "purchase.head()"
   ]
  },
  {
   "cell_type": "code",
   "execution_count": 76,
   "metadata": {
    "collapsed": false,
    "scrolled": true
   },
   "outputs": [
    {
     "data": {
      "text/html": [
       "<div>\n",
       "<style>\n",
       "    .dataframe thead tr:only-child th {\n",
       "        text-align: right;\n",
       "    }\n",
       "\n",
       "    .dataframe thead th {\n",
       "        text-align: left;\n",
       "    }\n",
       "\n",
       "    .dataframe tbody tr th {\n",
       "        vertical-align: top;\n",
       "    }\n",
       "</style>\n",
       "<table border=\"1\" class=\"dataframe\">\n",
       "  <thead>\n",
       "    <tr style=\"text-align: right;\">\n",
       "      <th></th>\n",
       "      <th>SESSION_ID</th>\n",
       "      <th>COOKIE_ID</th>\n",
       "      <th>TIMESTAMP</th>\n",
       "      <th>PRODUCT_ID</th>\n",
       "      <th>Brand</th>\n",
       "    </tr>\n",
       "  </thead>\n",
       "  <tbody>\n",
       "    <tr>\n",
       "      <th>0</th>\n",
       "      <td>1414197054496332800</td>\n",
       "      <td>50191443904105191665452</td>\n",
       "      <td>2015-11-01 05:00:09</td>\n",
       "      <td>622422.0</td>\n",
       "      <td>4</td>\n",
       "    </tr>\n",
       "    <tr>\n",
       "      <th>1</th>\n",
       "      <td>1414197054496332800</td>\n",
       "      <td>50191443904105191665452</td>\n",
       "      <td>2015-11-01 05:00:09</td>\n",
       "      <td>622422.0</td>\n",
       "      <td>4</td>\n",
       "    </tr>\n",
       "    <tr>\n",
       "      <th>2</th>\n",
       "      <td>4428785500379779072</td>\n",
       "      <td>50081434576176045083243</td>\n",
       "      <td>2015-11-01 05:00:12</td>\n",
       "      <td>435909.0</td>\n",
       "      <td>3</td>\n",
       "    </tr>\n",
       "    <tr>\n",
       "      <th>3</th>\n",
       "      <td>6251036414958810112</td>\n",
       "      <td>30201446332336113765034</td>\n",
       "      <td>2015-11-01 05:00:12</td>\n",
       "      <td>481888.0</td>\n",
       "      <td>6</td>\n",
       "    </tr>\n",
       "    <tr>\n",
       "      <th>4</th>\n",
       "      <td>6251036414958810112</td>\n",
       "      <td>30201446332336113765034</td>\n",
       "      <td>2015-11-01 05:00:12</td>\n",
       "      <td>481888.0</td>\n",
       "      <td>6</td>\n",
       "    </tr>\n",
       "  </tbody>\n",
       "</table>\n",
       "</div>"
      ],
      "text/plain": [
       "            SESSION_ID                COOKIE_ID            TIMESTAMP  \\\n",
       "0  1414197054496332800  50191443904105191665452  2015-11-01 05:00:09   \n",
       "1  1414197054496332800  50191443904105191665452  2015-11-01 05:00:09   \n",
       "2  4428785500379779072  50081434576176045083243  2015-11-01 05:00:12   \n",
       "3  6251036414958810112  30201446332336113765034  2015-11-01 05:00:12   \n",
       "4  6251036414958810112  30201446332336113765034  2015-11-01 05:00:12   \n",
       "\n",
       "   PRODUCT_ID  Brand  \n",
       "0    622422.0      4  \n",
       "1    622422.0      4  \n",
       "2    435909.0      3  \n",
       "3    481888.0      6  \n",
       "4    481888.0      6  "
      ]
     },
     "execution_count": 76,
     "metadata": {},
     "output_type": "execute_result"
    }
   ],
   "source": [
    "views.head()"
   ]
  },
  {
   "cell_type": "markdown",
   "metadata": {},
   "source": [
    "## Purchases by hours"
   ]
  },
  {
   "cell_type": "markdown",
   "metadata": {},
   "source": [
    "Plot the histogram of the purchases by hours.."
   ]
  },
  {
   "cell_type": "code",
   "execution_count": 156,
   "metadata": {
    "collapsed": false
   },
   "outputs": [
    {
     "data": {
      "image/png": "[encoded data removed]",
      "text/plain": [
       "<matplotlib.figure.Figure at 0x7fdad51cb790>"
      ]
     },
     "metadata": {},
     "output_type": "display_data"
    }
   ],
   "source": [
    "plt.hist([datetime.datetime.strptime(purchase.iloc[i].TIMESTAMP, '%Y-%m-%d %H:%M:%S').hour for i in range(len(purchase))],\n",
    "        bins=24)\n",
    "plt.show()"
   ]
  },
  {
   "cell_type": "markdown",
   "metadata": {},
   "source": [
    "Plot the histogram of the views by hours.."
   ]
  },
  {
   "cell_type": "code",
   "execution_count": 157,
   "metadata": {
    "collapsed": false
   },
   "outputs": [
    {
     "data": {
      "image/png": "[encoded data removed]",
      "text/plain": [
       "<matplotlib.figure.Figure at 0x7fdad51f4ad0>"
      ]
     },
     "metadata": {},
     "output_type": "display_data"
    }
   ],
   "source": [
    "plt.hist([datetime.datetime.strptime(views.iloc[i].TIMESTAMP, '%Y-%m-%d %H:%M:%S').hour for i in range(len(purchase))],\n",
    "        bins=24)\n",
    "plt.show()"
   ]
  },
  {
   "cell_type": "markdown",
   "metadata": {},
   "source": [
    "From these two pictures we see that the most intensive time for searching and buying is night. At 10 a.m. there is the least amount of activity. Also, it is shown that in the evening the customers are actively searching at 5 p.m. and buying at 8 p.m. So, from these facts it can be recommended to fit the sells to this data. For example, the company might make the sales during the least active period."
   ]
  },
  {
   "cell_type": "markdown",
   "metadata": {},
   "source": [
    "## Conversions for products"
   ]
  },
  {
   "cell_type": "markdown",
   "metadata": {},
   "source": [
    "Calculate the conversion for each *product_id* from the purchase table. For that take the ratio of value counts from two tables. If there is no specific *product_id* in the views table put the zero as conversion (this will mean that the product was purchased without views, not very good convention)."
   ]
  },
  {
   "cell_type": "code",
   "execution_count": 171,
   "metadata": {
    "collapsed": true
   },
   "outputs": [],
   "source": [
    "purchase_products = purchase.PRODUCT_ID.value_counts()\n",
    "views_products = views.PRODUCT_ID.value_counts()\n",
    "conversions = defaultdict(float)\n",
    "\n",
    "for product_id in tqdm_notebook(set(purchase.PRODUCT_ID.values)):\n",
    "    try: conversions[product_id] = float(purchase_products[product_id]) / views_products[product_id]\n",
    "    except KeyError: conversions[product_id] = 0"
   ]
  },
  {
   "cell_type": "markdown",
   "metadata": {},
   "source": [
    "Plot the histogram of the conversions.."
   ]
  },
  {
   "cell_type": "code",
   "execution_count": 172,
   "metadata": {
    "collapsed": false,
    "scrolled": true
   },
   "outputs": [
    {
     "data": {
      "image/png": "[encoded data removed]",
      "text/plain": [
       "<matplotlib.figure.Figure at 0x7fdad547ca90>"
      ]
     },
     "metadata": {},
     "output_type": "display_data"
    }
   ],
   "source": [
    "plt.hist(conversions.values(), bins=1000)\n",
    "plt.show()"
   ]
  },
  {
   "cell_type": "markdown",
   "metadata": {},
   "source": [
    "From the picture we see that the biggest part of the products has the convesions less than 0.3. Also, it is shown that there are some products with conversion more than 1. Besides, there are some products which was purchased without previous viewing."
   ]
  },
  {
   "cell_type": "code",
   "execution_count": 180,
   "metadata": {
    "collapsed": false
   },
   "outputs": [
    {
     "name": "stdout",
     "output_type": "stream",
     "text": [
      "Number of products for which:\n",
      "\tconversion equal to 1: 59\n",
      "\tconversion more than 1: 81\n",
      "\twere purchased w/o views: 42\n"
     ]
    }
   ],
   "source": [
    "print 'Number of products for which:'\n",
    "print '\\tconversion equal to 1: '+str(len([product_id for product_id in conversions.keys() if conversions[product_id]==1]))\n",
    "print '\\tconversion more than 1: '+str(len([product_id for product_id in conversions.keys() if conversions[product_id]>1]))\n",
    "print '\\twere purchased w/o views: '+str(len([product_id for product_id in conversions.keys() if conversions[product_id]==0]))"
   ]
  },
  {
   "cell_type": "markdown",
   "metadata": {},
   "source": [
    "It will be better if the company will prioritize the products with conversions equal or more than 1. Also, the products which were shown were purchased without viewing should be actively recommended for customers."
   ]
  },
  {
   "cell_type": "markdown",
   "metadata": {},
   "source": [
    "## Products by sessions"
   ]
  },
  {
   "cell_type": "markdown",
   "metadata": {},
   "source": [
    "Make the dictionary of all sessions for each product.."
   ]
  },
  {
   "cell_type": "code",
   "execution_count": 181,
   "metadata": {
    "collapsed": true
   },
   "outputs": [],
   "source": [
    "sessions_for_products = defaultdict(set)\n",
    "\n",
    "for row in tqdm_notebook(purchase.iterrows()):\n",
    "    sessions_for_products[row[1].PRODUCT_ID].add(row[1].SESSION_ID)"
   ]
  },
  {
   "cell_type": "markdown",
   "metadata": {},
   "source": [
    "Calculate if the particullar whole set of sessions for the particullar product is repeated."
   ]
  },
  {
   "cell_type": "code",
   "execution_count": 209,
   "metadata": {
    "collapsed": false
   },
   "outputs": [],
   "source": [
    "sessions_for_products_values = sessions_for_products.values()\n",
    "\n",
    "repeated_sessions_for_products = [sessions_for_products_values[i] in sessions_for_products_values[:i] or \n",
    "                                  sessions_for_products_values[i] in sessions_for_products_values[i+1:]\n",
    "                                  for i in range(len(sessions_for_products_values))]"
   ]
  },
  {
   "cell_type": "code",
   "execution_count": 212,
   "metadata": {
    "collapsed": false
   },
   "outputs": [],
   "source": [
    "repeated_sessions_for_products_values = [sessions_for_products_values[i] for i in range(len(sessions_for_products_values))\n",
    "                                        if repeated_sessions_for_products[i]]"
   ]
  },
  {
   "cell_type": "markdown",
   "metadata": {},
   "source": [
    "Find out which of the repeated sessions sets contains more than 3 different sessions. We got only one such sessions set."
   ]
  },
  {
   "cell_type": "code",
   "execution_count": 219,
   "metadata": {
    "collapsed": false
   },
   "outputs": [
    {
     "name": "stdout",
     "output_type": "stream",
     "text": [
      "[set([2893708176404048896, 1688376693237596928, 1389112551005658624, 3835403333219092480]), set([2893708176404048896, 1688376693237596928, 1389112551005658624, 3835403333219092480])]\n"
     ]
    }
   ],
   "source": [
    "print [i for i in repeated_sessions_for_products_values if len(i) > 3]"
   ]
  },
  {
   "cell_type": "markdown",
   "metadata": {},
   "source": [
    "Let's see what are the products that was purchased during these sessions from the set."
   ]
  },
  {
   "cell_type": "code",
   "execution_count": 221,
   "metadata": {
    "collapsed": false
   },
   "outputs": [
    {
     "data": {
      "text/plain": [
       "[419568.0, 419566.0]"
      ]
     },
     "execution_count": 221,
     "metadata": {},
     "output_type": "execute_result"
    }
   ],
   "source": [
    "[key for key in sessions_for_products.keys() \n",
    " if sessions_for_products[key]==set([2893708176404048896, 1688376693237596928, 1389112551005658624, 3835403333219092480])]"
   ]
  },
  {
   "cell_type": "markdown",
   "metadata": {},
   "source": [
    "It means that the products with ids 419568.0 and 419566.0 all the time were purchased only together at 4 different sessions. Having more data it can possible to find out more such compatibilities and use them in order sell more efficiently."
   ]
  },
  {
   "cell_type": "markdown",
   "metadata": {},
   "source": [
    "## Activity during the month"
   ]
  },
  {
   "cell_type": "markdown",
   "metadata": {},
   "source": [
    "Calculate the hour and the day for each entry in the tables.."
   ]
  },
  {
   "cell_type": "code",
   "execution_count": 225,
   "metadata": {
    "collapsed": true
   },
   "outputs": [],
   "source": [
    "purchase_hours = [datetime.datetime.strptime(purchase.iloc[i].TIMESTAMP, '%Y-%m-%d %H:%M:%S').hour \n",
    "                  for i in range(len(purchase))]\n",
    "views_hours = [datetime.datetime.strptime(views.iloc[i].TIMESTAMP, '%Y-%m-%d %H:%M:%S').hour \n",
    "                  for i in range(len(views))]\n",
    "\n",
    "purchase['HOUR'] = purchase_hours\n",
    "views['HOUR'] = views_hours"
   ]
  },
  {
   "cell_type": "code",
   "execution_count": null,
   "metadata": {
    "collapsed": true
   },
   "outputs": [],
   "source": [
    "purchase_dates = [datetime.datetime.strptime(purchase.iloc[i].TIMESTAMP, '%Y-%m-%d %H:%M:%S').day\n",
    "                  for i in range(len(purchase))]\n",
    "views_dates = [datetime.datetime.strptime(views.iloc[i].TIMESTAMP, '%Y-%m-%d %H:%M:%S').day\n",
    "                  for i in range(len(views))]\n",
    "\n",
    "purchase['DATE'] = purchase_dates\n",
    "views['DATE'] = views_dates"
   ]
  },
  {
   "cell_type": "markdown",
   "metadata": {},
   "source": [
    "Plot the number of purchases and the number of views respectively by the days in the month. "
   ]
  },
  {
   "cell_type": "code",
   "execution_count": 254,
   "metadata": {
    "collapsed": false
   },
   "outputs": [
    {
     "data": {
      "image/png": "[encoded data removed]",
      "text/plain": [
       "<matplotlib.figure.Figure at 0x7fdad4dc1310>"
      ]
     },
     "metadata": {},
     "output_type": "display_data"
    }
   ],
   "source": [
    "plt.figure(figsize=(13,5))\n",
    "plt.subplot(1,2,1)\n",
    "plt.plot(purchase.DATE.value_counts().keys(), purchase.DATE.value_counts().values, 'o')\n",
    "plt.subplot(1,2,2)\n",
    "plt.plot(views.DATE.value_counts().keys(), views.DATE.value_counts().values, 'o')\n",
    "plt.show()"
   ]
  },
  {
   "cell_type": "markdown",
   "metadata": {},
   "source": [
    "It is shown that the start and the end of the month are more intensive periods. It can be recommended to try to sell more actively during the stuck periods in the middle of the month."
   ]
  },
  {
   "cell_type": "markdown",
   "metadata": {},
   "source": [
    "## Brands' distribution"
   ]
  },
  {
   "cell_type": "markdown",
   "metadata": {},
   "source": [
    "Plot the histogram of the brands in the views table.."
   ]
  },
  {
   "cell_type": "code",
   "execution_count": 283,
   "metadata": {
    "collapsed": false
   },
   "outputs": [
    {
     "data": {
      "image/png": "[encoded data removed]",
      "text/plain": [
       "<matplotlib.figure.Figure at 0x7fdad5460410>"
      ]
     },
     "metadata": {},
     "output_type": "display_data"
    }
   ],
   "source": [
    "plt.hist(views.Brand)\n",
    "plt.show()"
   ]
  },
  {
   "cell_type": "markdown",
   "metadata": {},
   "source": [
    "Calculate the Brands values for each entry in the purchase table. If there is no particullar product in the views table put None as the Brand."
   ]
  },
  {
   "cell_type": "code",
   "execution_count": 300,
   "metadata": {
    "collapsed": false
   },
   "outputs": [],
   "source": [
    "purchase_brands = []\n",
    "for product_id in tqdm_notebook(purchase.PRODUCT_ID):\n",
    "    try: purchase_brands.append(views[views.PRODUCT_ID==product_id].Brand.values[0])\n",
    "    except IndexError: purchase_brands.append(None)"
   ]
  },
  {
   "cell_type": "markdown",
   "metadata": {},
   "source": [
    "Plot the histogram of the Brands values for the views table.."
   ]
  },
  {
   "cell_type": "code",
   "execution_count": 305,
   "metadata": {
    "collapsed": false
   },
   "outputs": [],
   "source": [
    "for i in range(len(purchase_brands)):\n",
    "    if purchase_brands[i]==None: purchase_brands[i] = 10"
   ]
  },
  {
   "cell_type": "code",
   "execution_count": 306,
   "metadata": {
    "collapsed": false
   },
   "outputs": [
    {
     "data": {
      "image/png": "[encoded data removed]",
      "text/plain": [
       "<matplotlib.figure.Figure at 0x7fdad4cc2e10>"
      ]
     },
     "metadata": {},
     "output_type": "display_data"
    }
   ],
   "source": [
    "plt.hist(purchase_brands)\n",
    "plt.show()"
   ]
  },
  {
   "cell_type": "markdown",
   "metadata": {},
   "source": [
    "From the pictures we can see that Brand 0 is the most popular brand for the purchase and for the views. However, for other brands the distrubutions are different in two tables. This is important to notice that the Brands 2 and 4 are better for selling. So, the company should make their emphasis on the Brands 0, 2 and 4 while planning for their future months."
   ]
  },
  {
   "cell_type": "markdown",
   "metadata": {},
   "source": [
    "## Prices' distribution"
   ]
  },
  {
   "cell_type": "markdown",
   "metadata": {},
   "source": [
    "Plot the histogram of prices in the purchase table.."
   ]
  },
  {
   "cell_type": "code",
   "execution_count": 310,
   "metadata": {
    "collapsed": false
   },
   "outputs": [
    {
     "data": {
      "image/png": "[encoded data removed]",
      "text/plain": [
       "<matplotlib.figure.Figure at 0x7fdad5460650>"
      ]
     },
     "metadata": {},
     "output_type": "display_data"
    }
   ],
   "source": [
    "plt.hist(purchase.BASE_PRICE, bins=100)\n",
    "plt.show()"
   ]
  },
  {
   "cell_type": "markdown",
   "metadata": {},
   "source": [
    "Calculate prices for each entry in the views table.. If it is impossible to find price of the particullar product because of its absence in the purchase table put the zero as the price."
   ]
  },
  {
   "cell_type": "code",
   "execution_count": 307,
   "metadata": {
    "collapsed": false
   },
   "outputs": [
    {
     "name": "stdout",
     "output_type": "stream",
     "text": [
      "\n"
     ]
    }
   ],
   "source": [
    "views_prices = []\n",
    "for product_id in tqdm_notebook(views.PRODUCT_ID):\n",
    "    try: views_prices.append(purchase[purchase.PRODUCT_ID==product_id].BASE_PRICE.values[0])\n",
    "    except IndexError: views_prices.append(0)"
   ]
  },
  {
   "cell_type": "markdown",
   "metadata": {},
   "source": [
    "Plot the histogram of the prices in the views table.."
   ]
  },
  {
   "cell_type": "code",
   "execution_count": 309,
   "metadata": {
    "collapsed": false
   },
   "outputs": [
    {
     "data": {
      "image/png": "[encoded data removed]",
      "text/plain": [
       "<matplotlib.figure.Figure at 0x7fdad505f410>"
      ]
     },
     "metadata": {},
     "output_type": "display_data"
    }
   ],
   "source": [
    "plt.hist(views_prices, bins=100)\n",
    "plt.show()"
   ]
  },
  {
   "cell_type": "markdown",
   "metadata": {},
   "source": [
    "From the histograms it is possible to notice that the customers are more likely to purchase the products with small prices. The products with the highest prices are also a little interesting for people. However, the number of the average-price products is the least. This is also should be beared in mind for sales planning."
   ]
  },
  {
   "cell_type": "markdown",
   "metadata": {},
   "source": [
    "Having more data it is possible to find out more facts about products and use them in the future. For example, getting the timestamps of the end of the sessions we can calculate the distributions of time spendings for the successfull sessions and the opposite ones and modify the company's website according to this data in order to keep the user the required time."
   ]
  }
 ],
 "metadata": {
  "kernelspec": {
   "display_name": "Python 2",
   "language": "python",
   "name": "python2"
  },
  "language_info": {
   "codemirror_mode": {
    "name": "ipython",
    "version": 2
   },
   "file_extension": ".py",
   "mimetype": "text/x-python",
   "name": "python",
   "nbconvert_exporter": "python",
   "pygments_lexer": "ipython2",
   "version": "2.7.13"
  },
  "widgets": {
   "state": {
    "161227e3cdf844f5b3e432349c0624fb": {
     "views": [
      {
       "cell_index": 7
      }
     ]
    },
    "1d626f45c6e14208aae8785fcdc8aac4": {
     "views": [
      {
       "cell_index": 10
      }
     ]
    },
    "2100fa89d3b8403b966e95977072e3a4": {
     "views": [
      {
       "cell_index": 7
      }
     ]
    },
    "4375ffdc230d4f12ad082f93de84ee5a": {
     "views": [
      {
       "cell_index": 22
      }
     ]
    },
    "7ac6fa0d4b244437aaeddf7cb081fa33": {
     "views": [
      {
       "cell_index": 20
      }
     ]
    }
   },
   "version": "1.2.0"
  }
 },
 "nbformat": 4,
 "nbformat_minor": 2
}
